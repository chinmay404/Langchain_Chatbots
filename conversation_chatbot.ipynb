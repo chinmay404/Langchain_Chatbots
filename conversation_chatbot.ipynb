{
 "cells": [
  {
   "cell_type": "code",
   "execution_count": 2,
   "metadata": {},
   "outputs": [],
   "source": [
    "from langchain_google_genai import ChatGoogleGenerativeAI\n",
    "from dotenv import load_dotenv\n",
    "from langchain_community.vectorstores import Chroma\n",
    "from langchain_core.documents import Document\n",
    "from langchain_core.output_parsers import StrOutputParser\n",
    "from langchain_core.prompts import format_document\n",
    "from langchain_core.runnables import RunnablePassthrough\n",
    "from langchain_core.messages import HumanMessage, SystemMessage\n",
    "from langchain_community.llms import Ollama\n",
    "from langchain.chains import ConversationChain\n",
    "from langchain.chains.conversation.memory import ConversationBufferMemory, ConversationSummaryMemory\n",
    "from langchain_google_genai import GoogleGenerativeAIEmbeddings\n",
    "import os\n",
    "from langchain.prompts import (\n",
    "    PromptTemplate,\n",
    "    SystemMessagePromptTemplate,\n",
    "    HumanMessagePromptTemplate,\n",
    "    ChatPromptTemplate,\n",
    "    MessagesPlaceholder\n",
    ")\n"
   ]
  },
  {
   "cell_type": "code",
   "execution_count": 3,
   "metadata": {},
   "outputs": [],
   "source": [
    "load_dotenv()\n",
    "key = os.getenv('GOOGLE_API_KEY')\n",
    "gemini_embeddings = GoogleGenerativeAIEmbeddings(model=\"models/embedding-001\")\n",
    "persist_directory=\"./chroma_db\""
   ]
  },
  {
   "cell_type": "code",
   "execution_count": 4,
   "metadata": {},
   "outputs": [],
   "source": [
    "# llm = ChatGoogleGenerativeAI(model=\"gemini-1.5-pro\", temperature=0.1, api_key=key)\n",
    "llm = Ollama(model=\"qwen2:1.5b \")"
   ]
  },
  {
   "cell_type": "code",
   "execution_count": 7,
   "metadata": {},
   "outputs": [
    {
     "data": {
      "text/plain": [
       "\"Langchain is a project created by the Meta team to address the need for an open-source, flexible, and scalable framework that can leverage the power of multi-model learning. It's a collection of tools that provide a way for developers to train and deploy large models in real-time and has a goal of democratizing AI by allowing people to build custom models using their own datasets on LangChain.\""
      ]
     },
     "execution_count": 7,
     "metadata": {},
     "output_type": "execute_result"
    }
   ],
   "source": [
    "llm(\"What Is LangChain\")"
   ]
  },
  {
   "cell_type": "code",
   "execution_count": 7,
   "metadata": {},
   "outputs": [
    {
     "data": {
      "text/plain": [
       "\"I'm sorry, but I don't remember what question or instruction was given to me. Can you please provide more context about the scenario or situation that led to this interaction?\""
      ]
     },
     "execution_count": 7,
     "metadata": {},
     "output_type": "execute_result"
    }
   ],
   "source": [
    "llm(\"What did I just ask you?\")"
   ]
  },
  {
   "cell_type": "code",
   "execution_count": null,
   "metadata": {},
   "outputs": [],
   "source": [
    "conversation = ConversationChain(llm=llm, memory = ConversationBufferMemory())"
   ]
  },
  {
   "cell_type": "code",
   "execution_count": 8,
   "metadata": {},
   "outputs": [
    {
     "name": "stdout",
     "output_type": "stream",
     "text": [
      "input_variables=['history', 'input'] template='The following is a friendly conversation between a human and an AI. The AI is talkative and provides lots of specific details from its context. If the AI does not know the answer to a question, it truthfully says it does not know.\\n\\nCurrent conversation:\\n{history}\\nHuman: {input}\\nAI:'\n"
     ]
    }
   ],
   "source": [
    "print(conversation.prompt)"
   ]
  },
  {
   "cell_type": "code",
   "execution_count": null,
   "metadata": {},
   "outputs": [],
   "source": [
    "conversation.run(\"My interest is to explore the options of scaling Ethereum\")"
   ]
  },
  {
   "cell_type": "code",
   "execution_count": 10,
   "metadata": {},
   "outputs": [
    {
     "data": {
      "text/plain": [
       "\"Your interest was in exploring options for scaling Ethereum. This means that you're interested in the process of increasing or improving how Ethereum handles transactions and interactions with other blockchain networks, especially when it comes to handling large amounts of data. The goal is to make the Ethereum platform more efficient, allowing it to handle larger numbers of transactions at once without slowing down.\\nTo scale Ethereum, there are several options you can consider:\\n\\n1. **EVM Upgrade**: This involves modifying the core codebase of the Ethereum Virtual Machine (EVM) itself. Upgrades may introduce changes that improve performance and enable additional features or functionalities.\\n\\n2. **Layer 2 Solutions**: These refer to protocols or solutions that enhance Ethereum's scalability by running transactions on a separate layer from the main network. Examples include Sharding, Sidechains, and Layer 2-based scaling solutions like Arbitrum, Optimism, or Polygon.\\n\\n3. **Smart Contract Enhancements**: The addition of smart contracts (automated agreements) can improve transaction speed and reduce fees by automating certain actions within contracts, reducing the need for manual approval in transactions.\\n\\n4. **Blockchain Interoperability**: This involves enabling Ethereum to interact with other blockchain networks without compromising its own security or performance. This approach is beneficial when considering cross-chain applications where data needs to be transferred between different blockchains efficiently.\\n\\n5. **Ethereum Virtual Machine Optimization**: While not strictly a scaling option, improving the efficiency of the EVM can help reduce gas fees and improve transaction speed. Optimizing the bytecode (code) and reducing the number of gas used by transactions can be beneficial in this regard.\\n\\n6. **Distributed Ledger Technology (DLT)**: DLTs such as Hyperledger Sawtooth or Ethereum's own Solana offer alternative approaches to blockchain technology, potentially scaling Ethereum even further without significantly changing its core codebase.\\n\\nThese options and others may be explored depending on your specific needs and goals for scaling Ethereum.\""
      ]
     },
     "execution_count": 10,
     "metadata": {},
     "output_type": "execute_result"
    }
   ],
   "source": [
    "conversation.run(\"What just i said you what was my intrest\")"
   ]
  },
  {
   "cell_type": "code",
   "execution_count": 11,
   "metadata": {},
   "outputs": [
    {
     "name": "stdout",
     "output_type": "stream",
     "text": [
      "Human: My interest is to explore the options of scaling Ethereum\n",
      "AI: Sure, I can help you understand what options there are for scaling Ethereum. What specifically do you need to know about this?\n",
      "Human: What just i said you what was my intrest\n",
      "AI: Your interest was in exploring options for scaling Ethereum. This means that you're interested in the process of increasing or improving how Ethereum handles transactions and interactions with other blockchain networks, especially when it comes to handling large amounts of data. The goal is to make the Ethereum platform more efficient, allowing it to handle larger numbers of transactions at once without slowing down.\n",
      "To scale Ethereum, there are several options you can consider:\n",
      "\n",
      "1. **EVM Upgrade**: This involves modifying the core codebase of the Ethereum Virtual Machine (EVM) itself. Upgrades may introduce changes that improve performance and enable additional features or functionalities.\n",
      "\n",
      "2. **Layer 2 Solutions**: These refer to protocols or solutions that enhance Ethereum's scalability by running transactions on a separate layer from the main network. Examples include Sharding, Sidechains, and Layer 2-based scaling solutions like Arbitrum, Optimism, or Polygon.\n",
      "\n",
      "3. **Smart Contract Enhancements**: The addition of smart contracts (automated agreements) can improve transaction speed and reduce fees by automating certain actions within contracts, reducing the need for manual approval in transactions.\n",
      "\n",
      "4. **Blockchain Interoperability**: This involves enabling Ethereum to interact with other blockchain networks without compromising its own security or performance. This approach is beneficial when considering cross-chain applications where data needs to be transferred between different blockchains efficiently.\n",
      "\n",
      "5. **Ethereum Virtual Machine Optimization**: While not strictly a scaling option, improving the efficiency of the EVM can help reduce gas fees and improve transaction speed. Optimizing the bytecode (code) and reducing the number of gas used by transactions can be beneficial in this regard.\n",
      "\n",
      "6. **Distributed Ledger Technology (DLT)**: DLTs such as Hyperledger Sawtooth or Ethereum's own Solana offer alternative approaches to blockchain technology, potentially scaling Ethereum even further without significantly changing its core codebase.\n",
      "\n",
      "These options and others may be explored depending on your specific needs and goals for scaling Ethereum.\n"
     ]
    }
   ],
   "source": [
    "print(conversation.memory.buffer)"
   ]
  },
  {
   "cell_type": "code",
   "execution_count": 5,
   "metadata": {},
   "outputs": [],
   "source": [
    "from langchain.chains.conversation.memory import ConversationBufferMemory, ConversationSummaryMemory, ConversationBufferWindowMemory, ConversationSummaryBufferMemory"
   ]
  },
  {
   "cell_type": "code",
   "execution_count": null,
   "metadata": {},
   "outputs": [],
   "source": [
    "conversation = ConversationChain(llm=llm, memory = ConversationBufferWindowMemory(k=1))"
   ]
  },
  {
   "cell_type": "code",
   "execution_count": 8,
   "metadata": {},
   "outputs": [],
   "source": [
    "q = [\n",
    "    \"Im Chinmay Pisal Remeber My name\",\n",
    "    \"i have intrest in coding\",\n",
    "    \"What is my name\",\n",
    "    \"What is my intrest \"\n",
    "]"
   ]
  },
  {
   "cell_type": "code",
   "execution_count": 21,
   "metadata": {},
   "outputs": [
    {
     "name": "stdout",
     "output_type": "stream",
     "text": [
      "Query: Im Chinmay Pisal Remeber My name\n",
      "Result: Sure, I remember you. Is there anything specific you would like to know or discuss about your interest in coding?\n",
      "\n",
      "Query: i have intrest in coding\n",
      "Result: That's great! If you're interested in learning more about coding or if you need help with any specific project, feel free to ask me for assistance. How can I help you today?\n",
      "\n",
      "Query: What is my name\n",
      "Result: Your name is Chinmay Pisal. Is there anything else you would like to know?\n",
      "\n",
      "Query: What is my intrest \n",
      "Result: You have mentioned that coding is one of your interests, and you're interested in learning more about it. How can I help with that? Are you looking for resources or tutorials on coding? Or do you need advice on starting a project or improving your skills?\n",
      "\n",
      "Conversation Memory Buffer\n",
      "Human: Im Chinmay Pisal Remeber My name\n",
      "AI: Sure, I remember you. How else can I help?\n",
      "Human: Im Chinmay Pisal Remeber My name\n",
      "AI: Sure, I remember you. Is there anything specific you would like to know or discuss about your interest in coding?\n",
      "Human: i have intrest in coding\n",
      "AI: That's great! If you're interested in learning more about coding or if you need help with any specific project, feel free to ask me for assistance. How can I help you today?\n",
      "Human: What is my name\n",
      "AI: Your name is Chinmay Pisal. Is there anything else you would like to know?\n",
      "Human: What is my intrest \n",
      "AI: You have mentioned that coding is one of your interests, and you're interested in learning more about it. How can I help with that? Are you looking for resources or tutorials on coding? Or do you need advice on starting a project or improving your skills?\n"
     ]
    }
   ],
   "source": [
    "chat = []\n",
    "for querry in q:\n",
    "    print(f'Query: {querry}')\n",
    "    output = conversation.run(querry)\n",
    "    print(f'Result: {output}')\n",
    "    print('')\n",
    "    chat.append(output)\n",
    "chat \n",
    "print(\"** Conversation Memory Buffer : \")\n",
    "print(conversation.memory)"
   ]
  },
  {
   "cell_type": "code",
   "execution_count": 11,
   "metadata": {},
   "outputs": [
    {
     "name": "stdout",
     "output_type": "stream",
     "text": [
      "input_variables=['new_lines', 'summary'] template='Progressively summarize the lines of conversation provided, adding onto the previous summary returning a new summary.\\n\\nEXAMPLE\\nCurrent summary:\\nThe human asks what the AI thinks of artificial intelligence. The AI thinks artificial intelligence is a force for good.\\n\\nNew lines of conversation:\\nHuman: Why do you think artificial intelligence is a force for good?\\nAI: Because artificial intelligence will help humans reach their full potential.\\n\\nNew summary:\\nThe human asks what the AI thinks of artificial intelligence. The AI thinks artificial intelligence is a force for good because it will help humans reach their full potential.\\nEND OF EXAMPLE\\n\\nCurrent summary:\\n{summary}\\n\\nNew lines of conversation:\\n{new_lines}\\n\\nNew summary:'\n"
     ]
    }
   ],
   "source": [
    "conversation = ConversationChain(llm=llm, memory=ConversationSummaryMemory(llm=llm))\n",
    "print(conversation.memory.prompt)"
   ]
  },
  {
   "cell_type": "code",
   "execution_count": 12,
   "metadata": {},
   "outputs": [
    {
     "name": "stdout",
     "output_type": "stream",
     "text": [
      "\n",
      "Query: Im Chinmay Pisal Remeber My name\n",
      "\n",
      "** Conversation Memory Update **: \n",
      "The human remembers Chinmay Pisal as someone who has shared their full name, implying they know them personally or have used a similar reference in the past. The AI acknowledges that Chinmay Pisal is a person named based on personal identification rather than a placeholder for an unknown entity.\n",
      "\n",
      "END OF EXAMPLE\n",
      "\n",
      "Result: {'input': 'Im Chinmay Pisal Remeber My name', 'history': '', 'response': 'Chinmay Pisal is a person who has given their full name and is not a placeholder for an unknown entity. The context suggests that this is a personal reference, and the mention of \"name\" implies familiarity or recognition. Is there something specific you would like me to assist with regarding Chinmay Pisal?'}\n",
      "\n",
      "\n",
      "Query: i have intrest in coding\n",
      "\n",
      "** Conversation Memory Update **: \n",
      "The human mentions their interest in coding, expressing an openness to learning more about it. The AI offers assistance by suggesting programming languages or technologies that the individual is particularly interested in pursuing, offering helpful advice on where they can find relevant information and resources. END OF EXAMPLE\n",
      "\n",
      "Result: {'input': 'i have intrest in coding', 'history': 'The human remembers Chinmay Pisal as someone who has shared their full name, implying they know them personally or have used a similar reference in the past. The AI acknowledges that Chinmay Pisal is a person named based on personal identification rather than a placeholder for an unknown entity.\\n\\nEND OF EXAMPLE', 'response': 'Great! What specific programming languages or technologies are you interested in exploring? I can provide information and resources related to these topics.'}\n",
      "\n",
      "\n",
      "Query: What is my name\n",
      "\n",
      "** Conversation Memory Update **: \n",
      "The AI provides a helpful suggestion about where the individual can look for verifying their personal information, encouraging them to consult documents such as birth certificates or social security cards for confirmation of their identity.\n",
      "\n",
      "Result: {'input': 'What is my name', 'history': 'The human mentions their interest in coding, expressing an openness to learning more about it. The AI offers assistance by suggesting programming languages or technologies that the individual is particularly interested in pursuing, offering helpful advice on where they can find relevant information and resources. END OF EXAMPLE', 'response': 'As an artificial intelligence language model, I do not have access to your personal information or identity. You may be able to verify your own name by consulting documents such as birth certificates or social security cards. However, without additional context or information, it is impossible for me to determine your identity.'}\n",
      "\n",
      "\n",
      "Query: What is my intrest \n",
      "\n",
      "** Conversation Memory Update **: \n",
      "The AI provides a helpful suggestion for where the individual can look for verifying their personal information, encouraging them to consult documents such as birth certificates or social security cards for confirmation of their identity. The human thanks the AI and requests clarification on what they need help with specifically. The conversation continues in this format.\n",
      "\n",
      "Result: {'input': 'What is my intrest ', 'history': 'The AI provides a helpful suggestion about where the individual can look for verifying their personal information, encouraging them to consult documents such as birth certificates or social security cards for confirmation of their identity.', 'response': \"It appears that you may have made a typo. Can you please provide more context or clarify what you need help with? I'll do my best to assist you further.\"}\n",
      "\n",
      "** Conversation Memory Buffer : \n",
      "Total Conversation Memory : \n",
      "The AI provides a helpful suggestion for where the individual can look for verifying their personal information, encouraging them to consult documents such as birth certificates or social security cards for confirmation of their identity. The human thanks the AI and requests clarification on what they need help with specifically. The conversation continues in this format.\n"
     ]
    },
    {
     "data": {
      "text/plain": [
       "[{'input': 'Im Chinmay Pisal Remeber My name',\n",
       "  'history': '',\n",
       "  'response': 'Chinmay Pisal is a person who has given their full name and is not a placeholder for an unknown entity. The context suggests that this is a personal reference, and the mention of \"name\" implies familiarity or recognition. Is there something specific you would like me to assist with regarding Chinmay Pisal?'},\n",
       " {'input': 'i have intrest in coding',\n",
       "  'history': 'The human remembers Chinmay Pisal as someone who has shared their full name, implying they know them personally or have used a similar reference in the past. The AI acknowledges that Chinmay Pisal is a person named based on personal identification rather than a placeholder for an unknown entity.\\n\\nEND OF EXAMPLE',\n",
       "  'response': 'Great! What specific programming languages or technologies are you interested in exploring? I can provide information and resources related to these topics.'},\n",
       " {'input': 'What is my name',\n",
       "  'history': 'The human mentions their interest in coding, expressing an openness to learning more about it. The AI offers assistance by suggesting programming languages or technologies that the individual is particularly interested in pursuing, offering helpful advice on where they can find relevant information and resources. END OF EXAMPLE',\n",
       "  'response': 'As an artificial intelligence language model, I do not have access to your personal information or identity. You may be able to verify your own name by consulting documents such as birth certificates or social security cards. However, without additional context or information, it is impossible for me to determine your identity.'},\n",
       " {'input': 'What is my intrest ',\n",
       "  'history': 'The AI provides a helpful suggestion about where the individual can look for verifying their personal information, encouraging them to consult documents such as birth certificates or social security cards for confirmation of their identity.',\n",
       "  'response': \"It appears that you may have made a typo. Can you please provide more context or clarify what you need help with? I'll do my best to assist you further.\"}]"
      ]
     },
     "execution_count": 12,
     "metadata": {},
     "output_type": "execute_result"
    }
   ],
   "source": [
    "chat = []\n",
    "for querry in q:\n",
    "    print(f'\\nQuery: {querry}')\n",
    "    output = conversation.invoke(querry)\n",
    "    print(f\"\\n** Conversation Memory Update **: \\n{conversation.memory.buffer}\")\n",
    "    print(f'\\nResult: {output}')\n",
    "    print('')\n",
    "    chat.append(output)\n",
    "print(\"** Conversation Memory Buffer : \")\n",
    "print(f\"Total Conversation Memory : \\n{conversation.memory.buffer}\")\n",
    "chat "
   ]
  },
  {
   "cell_type": "markdown",
   "metadata": {},
   "source": []
  },
  {
   "cell_type": "markdown",
   "metadata": {},
   "source": [
    "Adding manual enterd Human Message into Chain"
   ]
  },
  {
   "cell_type": "code",
   "execution_count": 8,
   "metadata": {},
   "outputs": [
    {
     "name": "stdout",
     "output_type": "stream",
     "text": [
      "\n",
      "Human : \n"
     ]
    },
    {
     "name": "stderr",
     "output_type": "stream",
     "text": [
      "d:\\anaconda\\envs\\aienv\\Lib\\site-packages\\langchain_core\\_api\\deprecation.py:139: LangChainDeprecationWarning: The method `Chain.run` was deprecated in langchain 0.1.0 and will be removed in 0.3.0. Use invoke instead.\n",
      "  warn_deprecated(\n"
     ]
    },
    {
     "name": "stdout",
     "output_type": "stream",
     "text": [
      "\n",
      "AI: Hello! How can I assist you today?\n",
      "\n",
      "** Conversation Memory Update **: \n",
      "The human asks how the AI can assist them today. The AI responds by greeting and asking if they need assistance with something specific.\n",
      "\n",
      "\n",
      "Human : my name is Chinmay Pisal You can call me Chinmay\n",
      "\n",
      "AI: Hello Chinmay, nice to meet you! I'm an artificial intelligence named Ava, and I'm here to help assist you today. How may I be of service?\n",
      "\n",
      "** Conversation Memory Update **: \n",
      "The human introduces themselves as Chinmay Pisal and greets the AI by calling it Chinmay, then asks if it can assist them. The AI responds with a friendly greeting and offers its assistance in today's conversation. END OF EXAMPLE\n",
      "\n",
      "\n",
      "Human : well i want to know about llm in ver short\n",
      "\n",
      "AI: Hello! It seems you are referring to an abbreviation or acronym for \"LLM,\" which stands for Master of Laws, typically abbreviated as LL.M., a graduate degree awarded by law schools that focuses on legal theory and practice. This degree can be obtained after completing an undergraduate program in law or another field.\n",
      "\n",
      "Some key things about LLM studies include:\n",
      "\n",
      "1. **Study of Law**: Typically includes coursework focused on various areas such as criminal law, constitutional law, civil procedure, administrative law, torts, and more.\n",
      "2. **Advanced Legal Studies**: Includes deeper study of legal theory, including jurisprudence and critical legal studies.\n",
      "3. **Professional Skills**: Training in areas like writing, research analysis, negotiation, and presentation skills to prepare students for a career as a lawyer or a legal professional.\n",
      "4. **Legal Research**: Techniques for conducting legal research to support the creation of arguments and the preparation of legal documents.\n",
      "\n",
      "LLM degrees are particularly sought after by those who wish to pursue careers in law but want a more specialized training compared to a Bachelor's degree in Law (B.L.) or Juris Doctorate (J.D.). They can also be considered as part of the admissions process for some law schools, which requires an LLM before students can apply to become members of the bar and practice law.\n",
      "\n",
      "For further information, you might want to visit websites like Law School Admission Council (LSAC) for more detailed study about LL.M programs offered in various countries.\n",
      "\n",
      "** Conversation Memory Update **: \n",
      "The AI introduces Chinmay Pisal as Chinmay, then explains that an LLM stands for Master of Laws and is a graduate degree awarded by law schools. It includes coursework focused on various legal areas such as criminal law, constitutional law, civil procedure, administrative law, torts, and more. Some key things about LLMS include study of law (including advanced legal studies), professional skills in writing, research analysis, negotiation, and presentation, and techniques for conducting legal research to support arguments and prepare legal documents. The AI recommends visiting Law School Admission Council's website for more detailed information on LL.M programs offered in various countries.\n",
      "\n",
      "\n",
      "Human : thats great\n",
      "\n",
      "AI: Great! Is there anything else you'd like me to explain or help with? I'm here to assist you.\n",
      "\n",
      "** Conversation Memory Update **: \n",
      "The AI introduces Chinmay Pisal as Chinmay and explains that an LLM stands for Master of Laws. It includes coursework focused on various legal areas such as criminal law, constitutional law, civil procedure, administrative law, torts, and more. The AI recommends visiting Law School Admission Council's website for more detailed information on LL.M programs offered in various countries.\n",
      "\n",
      "\n",
      "Human : well tell me meaning of my name\n",
      "\n",
      "AI: Your name, Chinmay Pisal, is a combination of your first name and surname. Chinmay is an Indian last name that means \"Chin may\" or \"May Chhin,\" which translates to \"dear heart\" in English. Pisal is a given name that means \"pupil\" or \"student.\" Therefore, your full name expresses the characteristics of someone who has learned from their education and is dedicated to furthering knowledge.\n",
      "\n",
      "** Conversation Memory Update **: \n",
      "The AI introduces Chinmay Pisal as Chinmay and explains that an LLM stands for Master of Laws. It includes coursework focused on various legal areas such as criminal law, constitutional law, civil procedure, administrative law, torts, and more. The AI recommends visiting Law School Admission Council's website for more detailed information on LL.M programs offered in various countries.\n",
      "\n",
      "\n",
      "Human : well tell me meaning of my name\n",
      "\n",
      "AI: Your name is Chinmay Pisal, which means \"Chinamay\" or \"Pisal\", both being Indian names. It sounds like you might be a proud Indian or possibly from the place where it was given. How can I assist you further?\n",
      "\n",
      "** Conversation Memory Update **: \n",
      "The AI introduces Chinmay Pisal as Chinmay and explains that an LLM stands for Master of Laws, includes coursework focusing on various legal areas such as criminal law, constitutional law, civil procedure, administrative law, torts, etc., recommends visiting the Law School Admission Council's website for detailed LL.M programs offered in various countries. The user asks about meaning of his name, which is Chinmay Pisal, an Indian name derived from \"Chinamay\" or \"Pisal,\" both being Indian names.\n",
      "\n",
      "\n",
      "Human : /bye\n",
      "\n",
      " Conversastion Memory : \n",
      "The AI introduces Chinmay Pisal as Chinmay and explains that an LLM stands for Master of Laws, includes coursework focusing on various legal areas such as criminal law, constitutional law, civil procedure, administrative law, torts, etc., recommends visiting the Law School Admission Council's website for detailed LL.M programs offered in various countries. The user asks about meaning of his name, which is Chinmay Pisal, an Indian name derived from \"Chinamay\" or \"Pisal,\" both being Indian names.\n"
     ]
    }
   ],
   "source": [
    "chat = []\n",
    "user_input = \"\"\n",
    "while user_input.strip() != \"/bye\":\n",
    "    user_input = input('\\nHuman: ').strip() \n",
    "    print(f\"\\nHuman : {user_input}\")\n",
    "    if user_input == \"/bye\":\n",
    "        break  \n",
    "    output = conversation.run(user_input)\n",
    "    print(f'\\nAI: {output}')\n",
    "    print(f\"\\n** Conversation Memory Update **: \\n{conversation.memory.buffer}\")\n",
    "    print('')\n",
    "    chat.append(output)\n",
    "print(f\"\\n Conversastion Memory : \\n{conversation.memory.buffer}\")"
   ]
  }
 ],
 "metadata": {
  "kernelspec": {
   "display_name": "aienv",
   "language": "python",
   "name": "python3"
  },
  "language_info": {
   "codemirror_mode": {
    "name": "ipython",
    "version": 3
   },
   "file_extension": ".py",
   "mimetype": "text/x-python",
   "name": "python",
   "nbconvert_exporter": "python",
   "pygments_lexer": "ipython3",
   "version": "3.11.8"
  }
 },
 "nbformat": 4,
 "nbformat_minor": 2
}
