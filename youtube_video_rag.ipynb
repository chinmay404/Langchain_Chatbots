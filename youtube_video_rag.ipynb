{
 "cells": [
  {
   "cell_type": "code",
   "execution_count": 47,
   "metadata": {},
   "outputs": [],
   "source": [
    "from langchain_core.prompts import PromptTemplate, ChatPromptTemplate, MessagesPlaceholder\n",
    "from langchain_core.messages import HumanMessage\n",
    "from dotenv import load_dotenv\n",
    "from langchain_community.document_loaders import WebBaseLoader\n",
    "from langchain_community.vectorstores import Chroma\n",
    "from langchain_core.documents import Document\n",
    "from langchain_core.output_parsers import StrOutputParser\n",
    "from langchain_core.prompts import format_document\n",
    "from langchain_core.runnables import RunnablePassthrough\n",
    "from langchain_core.messages import HumanMessage, SystemMessage\n",
    "from langchain_core.output_parsers import StrOutputParser\n",
    "from langchain_community.llms import Ollama\n",
    "from langchain_community.document_loaders import WebBaseLoader\n",
    "from langchain_text_splitters import RecursiveCharacterTextSplitter\n",
    "from langchain_community.document_loaders import PyPDFLoader\n",
    "import os\n",
    "from langchain.chains.conversation.memory import ConversationBufferMemory, ConversationSummaryMemory\n",
    "from langchain.chains import ConversationChain\n",
    "import chromadb\n",
    "from langchain_google_genai import GoogleGenerativeAIEmbeddings\n",
    "from langchain_community.document_loaders import YoutubeLoader\n",
    "from langchain_groq import ChatGroq\n",
    "from langchain_community.document_loaders import TextLoader\n",
    "from langchain.prompts import (\n",
    "    PromptTemplate,\n",
    "    SystemMessagePromptTemplate,\n",
    "    HumanMessagePromptTemplate,\n",
    "    ChatPromptTemplate,\n",
    ")"
   ]
  },
  {
   "cell_type": "code",
   "execution_count": 2,
   "metadata": {},
   "outputs": [],
   "source": [
    "os.environ[\"GROQ_API_KEY\"] = \"key\""
   ]
  },
  {
   "cell_type": "code",
   "execution_count": 3,
   "metadata": {},
   "outputs": [],
   "source": [
    "\n",
    "llm = ChatGroq(\n",
    "    model=\"llama-3.1-70b-versatile\",\n",
    "    temperature=0,\n",
    "    max_tokens=None,\n",
    "    timeout=None,\n",
    "    max_retries=2,\n",
    ")"
   ]
  },
  {
   "cell_type": "code",
   "execution_count": 4,
   "metadata": {},
   "outputs": [
    {
     "data": {
      "text/plain": [
       "\"It's nice to meet you. Is there something I can help you with or would you like to chat?\""
      ]
     },
     "execution_count": 4,
     "metadata": {},
     "output_type": "execute_result"
    }
   ],
   "source": [
    "response = llm.invoke(\"Hey there \")\n",
    "response.content"
   ]
  },
  {
   "cell_type": "code",
   "execution_count": 10,
   "metadata": {},
   "outputs": [],
   "source": [
    "load_dotenv()\n",
    "key = os.getenv('GOOGLE_API_KEY')\n",
    "embedding_function = GoogleGenerativeAIEmbeddings(model=\"models/embedding-001\")"
   ]
  },
  {
   "cell_type": "code",
   "execution_count": 6,
   "metadata": {},
   "outputs": [],
   "source": [
    "text_splitter = RecursiveCharacterTextSplitter(chunk_size = 500, chunk_overlap=20)\n"
   ]
  },
  {
   "cell_type": "code",
   "execution_count": 7,
   "metadata": {},
   "outputs": [],
   "source": [
    "with open(\"Zukerber laama3-405b.txt\") as f:\n",
    "    text = f.read()"
   ]
  },
  {
   "cell_type": "code",
   "execution_count": 8,
   "metadata": {},
   "outputs": [
    {
     "data": {
      "text/plain": [
       "[Document(page_content='# Mark Zuckerberg on Llama 3.1, Open Source, AI Agents, Safety, and more\\n# https://www.youtube.com/watch/Vy3OkbtUa5k'),\n",
       " Document(page_content=\"00:00:00.080 the first time we're releasing a 405\\n00:00:02.280 billion parameter model by far the most\\n00:00:04.279 sophisticated open source model that\\n00:00:06.080 that I think anyone has has put out I\\n00:00:07.600 was a little shocked by how directly you\\n00:00:09.679 called out apple and their closed\\n00:00:11.320 approach can you kind of expand on that\\n00:00:13.839 and where Apple has been a blocker for\\n00:00:15.839 meta yeah I think it's a little bit Soul\"),\n",
       " Document(page_content=\"00:00:18.080 crushing when you go build features that\\n00:00:20.519 are what you believe is good for for\\n00:00:22.480 your community and then you're told that\\n00:00:24.240 you can't ship them because some company\\n00:00:26.760 wants to put you in a box so that they\\n00:00:28.480 they can better compete with you can\\n00:00:30.119 talk more about your long-term vision\\n00:00:32.279 for what you think is going to happen\\n00:00:33.960 with AI and possibly AGI in the\"),\n",
       " Document(page_content=\"00:00:37.320 future all right Mark thanks so much for\\n00:00:39.600 doing this um obviously huge AI\\n00:00:42.960 announcement from meta today can you\\n00:00:44.760 give us the rundown on everything\\n00:00:46.320 released and why it's important yeah\\n00:00:48.879 sure so I mean the big release today\\n00:00:51.199 first of all happy to be doing this big\\n00:00:53.199 fan of what you do um the big release\\n00:00:55.879 today is llama 3.1 and we're releasing\\n00:00:58.920 three models\"),\n",
       " Document(page_content=\"00:01:00.440 um the first time we're releasing a 405\\n00:01:03.120 billion parameter model um so it's by\\n00:01:05.360 far the most sophisticated open source\\n00:01:07.159 model that that I think anyone is has\\n00:01:08.759 put out um and and it really kind of is\\n00:01:12.040 competitive with some of the leading\\n00:01:13.119 closed models and in some areas is even\\n00:01:15.119 ahead so I'm really excited to see what\\n00:01:17.320 people do with that especially now that\"),\n",
       " Document(page_content=\"00:01:19.640 we're making it so that our the\\n00:01:21.920 community policies around llama allow\\n00:01:23.680 people to use it as a teacher model to\\n00:01:26.360 distill and fine-tune and um and\\n00:01:29.640 basically create whatever other models\\n00:01:31.000 they want with it um in addition to that\\n00:01:33.479 we've distilled the 405 billion\\n00:01:35.479 parameter model down to make newer and\\n00:01:38.680 updated and now leading um for for their\"),\n",
       " Document(page_content=\"00:01:41.720 size 70 billion and 8 billion parameter\\n00:01:43.960 models they also have really good\\n00:01:46.320 performance um really good kind of cost\\n00:01:50.200 per performance ratios so I'm really\\n00:01:52.759 excited to see what everyone does with\\n00:01:54.040 this um you know I mean taking a step\\n00:01:56.520 back I think this is a pretty big moment\\n00:01:58.439 for open source AI\\n00:02:00.479 um you know I've been reflecting on this\\n00:02:02.320 and I I kind of think it's you know I\"),\n",
       " Document(page_content=\"00:02:04.680 thought for a while that open source AI\\n00:02:06.119 was going to become the industry\\n00:02:07.599 standard and I thought that it would\\n00:02:10.399 basically follow the path that Linux did\\n00:02:14.319 where you know if you if you um just go\\n00:02:17.840 back to before Linux was popular there\\n00:02:19.720 you know there were all these companies\\n00:02:20.920 that had their own closed versions of\\n00:02:22.519 Unix and at the time you know there's\"),\n",
       " Document(page_content=\"00:02:25.040 nothing that was sort of that\\n00:02:27.080 sophisticated that had ever been done as\\n00:02:28.840 an open source project and people\\n00:02:30.319 thought hey no this is like the closed\\n00:02:32.440 model of development is the only way to\\n00:02:33.599 do something that's this Advanced and at\\n00:02:35.599 first Linux kind of got its foot hold\\n00:02:38.720 because um it was cheaper because\\n00:02:41.480 developers could customize it in\"),\n",
       " Document(page_content='00:02:42.760 different ways and then over time as the\\n00:02:44.560 ecosystem built out it you know got more\\n00:02:47.480 scrutiny so it actually became the more\\n00:02:49.000 secure one it became the more advanced\\n00:02:51.040 one um there were more partners that\\n00:02:52.959 basically built more capabilities in the\\n00:02:54.959 case of Linux more drivers um and things\\n00:02:57.519 like that that basically ended up making\\n00:02:59.159 it have more capabilities as well than'),\n",
       " Document(page_content=\"00:03:01.680 any closed source unic so I think that\\n00:03:04.319 this moment with llama 3.1 is kind of\\n00:03:07.080 like that inflection point where um I\\n00:03:10.400 think llama has the the opportunity to\\n00:03:12.440 become the open- source AI standard for\\n00:03:15.959 open source to become the standard the\\n00:03:17.599 industry standard for for AI and even in\\n00:03:20.640 the places where it's not yet ahead on\\n00:03:22.440 performance it leads on on kind of cost\"),\n",
       " Document(page_content=\"00:03:26.000 and on on customizability and on the\\n00:03:28.519 ability to take the model and find tune\\n00:03:30.159 it and do all the things that you want\\n00:03:31.879 with it um so I think that those are\\n00:03:34.360 just huge advantages that that we're\\n00:03:35.959 going to see developers take and we're\\n00:03:38.120 focusing on building out this partner\\n00:03:39.400 ecosystem and there are going to be all\\n00:03:40.799 these different capabilities that get\"),\n",
       " Document(page_content=\"00:03:41.879 built out around it so yeah really\\n00:03:43.439 excited to talk about all that yeah I've\\n00:03:45.400 seen all the benchmarks it looks\\n00:03:47.720 incredible um obviously the first ever\\n00:03:50.439 open source Frontier Model uh for 405b\\n00:03:54.159 um are there any specific real world use\\n00:03:56.720 cases that you're really excited about\\n00:03:58.360 to see people build with the model well\\n00:04:01.239 the thing that I'm most excited about is\"),\n",
       " Document(page_content=\"00:04:03.599 seeing people use it to distill and and\\n00:04:07.799 fine-tune their own models right it's I\\n00:04:10.280 mean like you're saying I me this is the\\n00:04:11.519 first open source Frontier level model\\n00:04:14.319 but it's not the first Frontier level\\n00:04:16.120 model so there have been other models\\n00:04:18.238 that sort of have that capacity and yeah\\n00:04:19.918 people are going to want to do inference\\n00:04:21.160 directly on the 405 because it's you\"),\n",
       " Document(page_content=\"00:04:23.680 know by our our estimates it's going to\\n00:04:26.160 be about 50% cheaper I think than than\\n00:04:28.440 GPT 40 um to do that directly and um so\\n00:04:32.080 I think that that that obviously makes a\\n00:04:33.320 difference to a lot of people but the\\n00:04:36.199 thing that I think is really new in the\\n00:04:37.680 world with this is the because it's open\\n00:04:40.199 weights um the ability to take the model\\n00:04:44.720 and distill it down to whatever size\"),\n",
       " Document(page_content=\"00:04:47.639 that you want to use it for synthetic\\n00:04:49.479 data generation to use it as a teacher\\n00:04:51.759 model um you know so our vision for the\\n00:04:54.240 future it's not just okay it was never\\n00:04:56.039 that there's going to be One Singular\\n00:04:57.400 thing I think this is like open AI sort\\n00:04:59.320 of as this Vision that they're going to\\n00:05:00.520 build kind of one big AI anthropic does\\n00:05:03.240 too Google does to it's never been our\"),\n",
       " Document(page_content='00:05:05.360 vision our our vision is that there\\n00:05:07.280 should be lots of different models I\\n00:05:08.919 think every startup out there every\\n00:05:11.120 Enterprise governments they all kind of\\n00:05:13.560 want to have their own custom models and\\n00:05:17.440 and yeah when the closed ecosystem was\\n00:05:19.199 so much better than open source it was\\n00:05:21.240 just better to take the vanilla Clos\\n00:05:23.440 thing off the shelf because even though'),\n",
       " Document(page_content=\"00:05:25.759 you could customize open source there\\n00:05:27.479 was still some gap between the\\n00:05:28.680 performance that you could get but now\\n00:05:30.039 we don't see that anymore right now as\\n00:05:32.360 open source basically closes the Gap I\\n00:05:34.600 think you're just going to see this wide\\n00:05:36.639 proliferation of models where people now\\n00:05:40.560 have the incentive to basically\\n00:05:41.880 customize and build and train exactly\"),\n",
       " Document(page_content=\"00:05:44.000 the right size model for what they're\\n00:05:45.440 doing um train their data into it\\n00:05:47.680 they're going to have the tools to do it\\n00:05:48.880 because of a lot of the partner\\n00:05:49.800 Integrations that the companies like um\\n00:05:52.560 like Amazon are doing with AWS or data\\n00:05:54.639 bricks um or different folks like that\\n00:05:56.919 who are building these whole Suites of\\n00:05:58.319 services for distilling and fine-tuning\"),\n",
       " Document(page_content=\"00:06:00.639 um open models so I think that that's\\n00:06:02.440 going to be the thing that's new here\\n00:06:03.639 and that's really exciting is how far\\n00:06:05.520 can that get pushed and um and that's a\\n00:06:07.880 completely new capability in the world\\n00:06:09.199 because there hasn't been an open source\\n00:06:11.000 or open weight model of of of kind of\\n00:06:13.240 this um sophistication that's ever been\\n00:06:14.919 released before yeah it's a really big\"),\n",
       " Document(page_content=\"00:06:17.880 deal and um how are you educating\\n00:06:21.199 developers to use these tools and more\\n00:06:24.840 broadly does meta have like a plan or\\n00:06:26.960 strategy to educate the rest of the\\n00:06:29.080 world on open source and why it really\\n00:06:31.080 matters yeah so I'd say before llama 3.1\\n00:06:34.759 our approach I mean the reason that meta\\n00:06:36.400 fundamentally is investing in this is we\\n00:06:38.240 basically want to know that we have\"),\n",
       " Document(page_content=\"00:06:40.080 access to to a leading model um you know\\n00:06:43.560 because of some of our our history of of\\n00:06:46.280 kind of how mobile worked and things\\n00:06:47.720 like that um we didn't want to be in a\\n00:06:49.840 position where we had to rely on some\\n00:06:52.000 competitor for this kind of fundamental\\n00:06:53.960 technology so we built it for ourselves\\n00:06:56.800 and before llama 3.1 you know we we kind\\n00:07:00.599 of add this Instinct that if we made it\"),\n",
       " Document(page_content=\"00:07:03.199 open source there would be a community\\n00:07:04.520 that would grow around it and that would\\n00:07:06.599 actually extend the capabilities and\\n00:07:07.800 make it more valuable for everyone\\n00:07:08.960 including us um because at the end of\\n00:07:11.800 the day this isn't just a technology\\n00:07:13.039 it's an ecosystem right that that that\\n00:07:14.919 you're developing so um in order for\\n00:07:16.720 this to end up being a useful thing for\"),\n",
       " Document(page_content=\"00:07:18.120 us there also needs to be a broad\\n00:07:19.560 ecosystem one of the big changes that\\n00:07:22.800 that I think we see with llama 3.1 is\\n00:07:24.840 instead of just building it for\\n00:07:25.800 ourselves and throwing it over the wall\\n00:07:27.319 and letting developers use it this time\\n00:07:29.840 we're really taking a much more\\n00:07:31.199 proactive stance on building\\n00:07:34.240 Partnerships and making sure that um\\n00:07:37.560 there's this whole ecosystem of\"),\n",
       " Document(page_content=\"00:07:38.919 companies that can do interesting things\\n00:07:41.280 with the model and conserve developers\\n00:07:42.879 in ways that we're not going to right\\n00:07:44.599 we're not a public cloud provider right\\n00:07:46.800 it's Ian we're not AWS or or Google or\\n00:07:49.360 Azure right it's so developers aren't\\n00:07:51.240 going to come to us to build their stuff\\n00:07:52.840 but we want to make sure that all those\\n00:07:54.000 public clouds are well equipped to do\"),\n",
       " Document(page_content=\"00:07:55.560 this um that goes for some of the more\\n00:07:59.159 basic\\n00:08:00.120 functionality like just hosting the\\n00:08:01.919 models and serving inference um but we\\n00:08:04.599 also want to make it some of the new\\n00:08:06.400 stuff that's going to be possible with\\n00:08:07.680 this like distillation and fine-tuning\\n00:08:11.039 um that there's specific services that\\n00:08:12.479 are set up for that and you know a lot\\n00:08:14.000 of those Services haven't been that well\"),\n",
       " Document(page_content=\"00:08:15.479 built out before because that's not\\n00:08:16.720 really a thing that you could do as well\\n00:08:17.919 with closed models so um there was\\n00:08:19.720 specific work that we had to do with\\n00:08:21.479 those Partners to enable that at the\\n00:08:23.479 same time I think that there are also\\n00:08:24.440 going to be folks um like grock right\\n00:08:27.199 who are doing really interesting work on\\n00:08:29.599 really kind of ultra low latency um\"),\n",
       " Document(page_content=\"00:08:33.120 inference and I'm really excited to get\\n00:08:34.919 this in their hands and they they're\\n00:08:36.440 building something for launch that\\n00:08:37.760 basically is um is gonna is is is going\\n00:08:41.080 to enable that too and then there's this\\n00:08:43.120 whole set of Enterprise companies so\\n00:08:44.720 folks like like Dell or you know\\n00:08:47.240 scale.ai or deoe or Accenture who um\\n00:08:50.680 work with all the Enterprises around the\"),\n",
       " Document(page_content=\"00:08:52.160 world on on technology deployments and I\\n00:08:53.920 think those are going to be a lot of the\\n00:08:55.000 folks who um help build kind of custom\\n00:08:59.120 models for you know whether they're\\n00:09:00.839 large Enterprises or governments a lot\\n00:09:03.440 of folks who basically want to have a\\n00:09:05.680 model that's their model that they can\\n00:09:07.000 train their custom data into it but they\\n00:09:09.279 um you know a lot of companies don't\"),\n",
       " Document(page_content=\"00:09:10.839 want to send their data over an API to\\n00:09:13.360 you know Google or open AI it's and not\\n00:09:15.240 because um not because those companies\\n00:09:17.560 have any particular privacy issue but\\n00:09:19.079 it's the same reason why people like\\n00:09:20.040 encryption and WhatsApp right they\\n00:09:21.920 people just want kind of secure by\\n00:09:24.240 Design architectures where their data\\n00:09:27.240 can can kind of stay with them and um\"),\n",
       " Document(page_content=\"00:09:30.000 I think that there's G to be a whole\\n00:09:30.880 market around things like that that get\\n00:09:32.240 built out too so I'm pretty excited\\n00:09:33.560 about all of this but yeah we're taking\\n00:09:35.000 a much more proactive position this time\\n00:09:37.360 and helping to build out the ecosystem\\n00:09:38.800 because I think that's how how this um\\n00:09:40.720 grows and just becomes more valuable for\\n00:09:42.600 everyone yeah I love how close you are\"),\n",
       " Document(page_content='00:09:45.360 to the developer Community um just me\\n00:09:48.360 myself being in the community I know for\\n00:09:50.440 a fact that people really want these\\n00:09:53.000 private and local models so um moving on\\n00:09:56.720 to your letter uh so alongside of the\\n00:09:58.959 meta announcements you published a\\n00:10:01.160 letter and um the first portion really\\n00:10:03.839 focused on why open source is good for\\n00:10:05.839 developers and I felt like really spot'),\n",
       " Document(page_content='00:10:08.200 on um can you talk more about like what\\n00:10:11.000 the broad societal implications are of\\n00:10:13.920 Open Source AI yeah I mean my view is\\n00:10:18.000 that open source is a really important\\n00:10:22.160 ingredient to having a positive AI\\n00:10:24.040 future and there are all these awesome\\n00:10:25.760 things that AI is going to bring um in\\n00:10:28.040 terms of productivity gains and\\n00:10:30.399 creativity enhancements for people and'),\n",
       " Document(page_content=\"00:10:32.760 hopefully it'll help us with research\\n00:10:34.079 and things like that but I think open\\n00:10:37.240 source is an important part of how we\\n00:10:39.360 make sure that this benefits everyone\\n00:10:41.200 and is accessible to everyone and isn't\\n00:10:43.480 something that's just locked into a\\n00:10:45.399 handful of big companies um at the same\\n00:10:49.040 time I actually think that open source\\n00:10:51.760 is going to end up being the safer and\"),\n",
       " Document(page_content=\"00:10:54.399 more secure way to develop AI I know\\n00:10:56.639 that there's sort of a debate today\\n00:10:57.880 about is open are safe and I actually\\n00:11:02.200 take the different position on it not\\n00:11:03.600 only do I think it's safe I think it's\\n00:11:04.839 safer than the alternative of clo\\n00:11:06.360 development and you know I sort of break\\n00:11:08.079 it down into you know there there are\\n00:11:10.279 lots of different kinds of harm so it's\"),\n",
       " Document(page_content=\"00:11:12.079 you can't just talk about one type of\\n00:11:14.079 thing but\\n00:11:15.880 um on this I think that there's there's\\n00:11:19.440 unintentional harms so the system goes\\n00:11:21.560 off the rails in some way um that people\\n00:11:24.000 didn't intend and then there's\\n00:11:25.839 intentional harms where you have like\\n00:11:27.399 some Bad actors trying to use the system\\n00:11:29.079 to do something bad when it comes to\\n00:11:31.120 unintentional harms which I think by the\"),\n",
       " Document(page_content=\"00:11:32.800 way it's worth noting that like most of\\n00:11:34.959 the Sci-Fi scenarios that people worry\\n00:11:36.800 about of AI just going rogue um are kind\\n00:11:39.680 of unintentional I I actually think that\\n00:11:42.519 open source should be safer on that\\n00:11:44.720 because it's it will have more scrutiny\\n00:11:47.560 it'll have more transparency um and I I\\n00:11:50.519 think all the developers who use it with\\n00:11:52.959 all the Lama guard and the safety tools\"),\n",
       " Document(page_content=\"00:11:54.959 that that it comes with um there's going\\n00:11:57.600 to be so much scrutiny and testing and\\n00:11:59.240 pressure on those that my guess is that\\n00:12:01.600 it will have kind of just like\\n00:12:04.120 traditional open source software um any\\n00:12:06.680 kind of issues with it I think will be\\n00:12:08.000 ironed out and fixed a lot quicker than\\n00:12:10.839 with when the closed models so I think\\n00:12:13.040 you got you've got that on on kind of\"),\n",
       " Document(page_content=\"00:12:14.600 unintentional harm which is why I think\\n00:12:15.959 most of of the discussion around safety\\n00:12:18.120 for open source revolves around\\n00:12:20.000 intentional harm it's okay it's open\\n00:12:21.560 it's out there how are you going to stop\\n00:12:23.000 Bad actors from from doing it doing bad\\n00:12:25.360 things with it um there I think you\\n00:12:28.360 basically want to probably divide the\\n00:12:30.399 problem into kind of smaller actors like\"),\n",
       " Document(page_content=\"00:12:33.360 an individual or or um or some kind of\\n00:12:36.000 smaller group that's trying to create\\n00:12:37.800 some some some Mayhem and larger actors\\n00:12:42.360 who are more sophisticated have huge\\n00:12:43.839 amounts of resources like big nation\\n00:12:45.519 states I think it's kind of a different\\n00:12:47.639 mix for the two of those um you know for\\n00:12:50.959 the smaller actors and my view on this\\n00:12:53.639 is that um you know the way that we've\"),\n",
       " Document(page_content=\"00:12:56.959 that I think that having a balance of\\n00:12:58.320 power on this is super important um you\\n00:13:00.600 know what we've done in managing our\\n00:13:01.760 social networks is we have all these\\n00:13:03.120 kind of Bad actors who are trying to do\\n00:13:06.160 kind of bad stuff on our networks and\\n00:13:08.079 the way and a lot of times they deploy\\n00:13:09.560 AI systems to do that and the way that\\n00:13:10.959 we stop them and identify them is by\"),\n",
       " Document(page_content=\"00:13:12.920 having more sophisticated AI systems\\n00:13:15.320 that have more compute to go find what\\n00:13:16.959 they're doing so I think that this is\\n00:13:19.639 actually pretty similar to that\\n00:13:21.440 governments and law enforcement\\n00:13:23.320 essentially maintain order in society\\n00:13:25.240 it's like yeah you have a bunch of Rogue\\n00:13:26.800 people who might be committing crimes\\n00:13:28.800 but you know generally the police forces\"),\n",
       " Document(page_content=\"00:13:30.720 and the militaries are much better\\n00:13:32.639 funded have more resources and I think\\n00:13:34.680 that that's basically going to be true\\n00:13:35.760 here as a matter of fact I think what\\n00:13:37.160 you want is for open source to be widely\\n00:13:39.600 deployed which I think that there's sort\\n00:13:40.880 of a risk if it's closed that that's not\\n00:13:42.880 the case but when it's open you're G to\\n00:13:44.519 have all these big institutions that\"),\n",
       " Document(page_content=\"00:13:46.600 have a ton of resources that they can\\n00:13:49.040 basically deploy these systems in a way\\n00:13:50.560 that I think will check Bad actors then\\n00:13:52.959 you get to um the question of of\\n00:13:56.040 basically you know folks like China like\\n00:13:59.440 large sophisticated actors and one of\\n00:14:02.199 the questions that you sometimes he\\n00:14:03.519 debated is like okay if you're open\\n00:14:05.040 sourcing the really Advanced models how\"),\n",
       " Document(page_content=\"00:14:07.079 do you make it so that that it doesn't\\n00:14:09.320 get to to to China or they're not going\\n00:14:11.199 to use that against us and um and that's\\n00:14:14.240 sometimes an argument that people have\\n00:14:15.320 for hey you should lock down development\\n00:14:17.000 but I think that that's sort of missing\\n00:14:18.759 a few things one is that in order for\\n00:14:21.240 this all to work the US has to have an\\n00:14:22.839 advantage in the first place or or the\"),\n",
       " Document(page_content=\"00:14:25.040 the west and and in kind of our\\n00:14:27.600 advantage is basically open and\\n00:14:29.399 decentralized Innovation it's not just a\\n00:14:31.399 small number of big companies or Labs\\n00:14:33.079 it's startups and universities and\\n00:14:35.440 individuals hacking on things who are't\\n00:14:37.079 even parts of companies and that's a big\\n00:14:38.959 part of it and you don't want to shut\\n00:14:40.360 that down so and I think if you do you\"),\n",
       " Document(page_content=\"00:14:42.759 you you increase the chance that we\\n00:14:43.839 don't even lead in the first place but\\n00:14:46.480 then I think you get to the the issue\\n00:14:48.399 which is okay like China or not even\\n00:14:51.839 China any government um you know there\\n00:14:54.560 all the risks of of kind of stealing the\\n00:14:56.680 models and and Espionage I mean a lot of\\n00:14:58.639 the models fit on you know a hard drive\\n00:15:00.920 that you can you know quickly put in\"),\n",
       " Document(page_content=\"00:15:02.560 your backpack or whatever and it's um I\\n00:15:06.040 I just think we need to be realistic\\n00:15:08.040 about How likely it is that we can\\n00:15:11.000 secure um and not not just not us but\\n00:15:13.600 like any of the tech companies can\\n00:15:14.800 secure any of these um models long-term\\n00:15:17.240 against very sophisticated efforts to do\\n00:15:19.759 that so my own fear is that if we lock\\n00:15:23.839 down development we end up in a world\"),\n",
       " Document(page_content=\"00:15:25.720 where basically you have a small number\\n00:15:27.759 of companies Plus all the adversaries\\n00:15:29.920 who can steal the model are the only\\n00:15:31.480 ones who have access but all the\\n00:15:33.360 startups all the universities all the\\n00:15:35.360 individual hackers are kind of just left\\n00:15:37.440 out and and don't have the ability to do\\n00:15:39.319 this so my own view is that a realistic\\n00:15:42.839 aim that we should hope for is um is\"),\n",
       " Document(page_content='00:15:46.880 that we use open source to basically\\n00:15:48.920 develop the leading and most robust\\n00:15:50.839 ecosystem in the world in that we have\\n00:15:53.920 an expectation that our companies work\\n00:15:56.440 closely with our government and Allied\\n00:15:59.040 governments on National Security so that\\n00:16:01.199 way our governments can persistently\\n00:16:03.240 just be integrating the latest\\n00:16:04.880 technology and have a you know whatever'),\n",
       " Document(page_content=\"00:16:06.680 it is a six-month Advantage eight-month\\n00:16:08.399 advantage on our adversaries and I think\\n00:16:10.120 that that's you I don't know that that\\n00:16:11.519 in this world you get a 10-year\\n00:16:13.319 permanent Advantage but I think a a kind\\n00:16:15.360 of Perpetual lead actually will make us\\n00:16:17.759 more safe um in one where we're leading\\n00:16:20.959 than the model that others are\\n00:16:22.040 advocating which is okay you have a\"),\n",
       " Document(page_content=\"00:16:23.199 small number of closed labs they lock\\n00:16:25.199 down development we probably risk being\\n00:16:27.000 in the lead at all like probably the\\n00:16:28.680 other governments are are are are\\n00:16:30.240 getting access to it it's that that's my\\n00:16:32.680 view I I actually think on on both these\\n00:16:34.720 things spreading prosperity for for um\\n00:16:38.279 more evenly around the world making it\\n00:16:39.959 that there can be more progress and on\"),\n",
       " Document(page_content=\"00:16:42.000 safety I think we're basically just\\n00:16:43.560 going to find over time that open source\\n00:16:45.040 leads um look there going to be issues\\n00:16:47.839 right it's like we'll have to mitigate\\n00:16:48.839 the issues we're going to test\\n00:16:49.759 everything rigorously we do we work with\\n00:16:51.319 governments on all the stuff we'll\\n00:16:52.959 continue doing that um but that's my\\n00:16:55.199 view of of kind of where the equilibrium\"),\n",
       " Document(page_content=\"00:16:57.040 I think will settle out given what I\\n00:16:58.279 know today\\n00:16:59.440 yeah let's talk about more on the\\n00:17:01.800 benefits of Open Source AI um so another\\n00:17:05.280 thing you mentioned in your letter is\\n00:17:07.039 that open source a can accelerate\\n00:17:09.000 Innovation and economic growth um how is\\n00:17:11.959 this already happening and how do you\\n00:17:14.599 see this happening more in the future\\n00:17:16.839 yeah I\"),\n",
       " Document(page_content=\"00:17:16.839 yeah I\\n00:17:18.039 mean I I think that there's a version of\\n00:17:20.959 this\\n00:17:21.959 which AI will do no matter how it's\\n00:17:25.079 developed um and then there's a version\\n00:17:26.959 of this that I think benefits from open\\n00:17:29.080 source specifically so I think that AI\\n00:17:32.640 has more potential than any other single\\n00:17:34.400 technology that's being developed right\\n00:17:36.160 now to increase productivity accelerate\"),\n",
       " Document(page_content=\"00:17:39.640 the economy um make it that kind of\\n00:17:42.520 every person has the ability to be more\\n00:17:44.160 creative and and and produce more\\n00:17:46.440 interesting things and I think that\\n00:17:48.120 that's all going to be great I I also\\n00:17:49.400 think I I hope that it'll help out with\\n00:17:50.720 science and um medical research and and\\n00:17:53.400 things like that\\n00:17:55.400 um there are a lot of folks today though\\n00:17:58.480 who don't necessarily have access to the\"),\n",
       " Document(page_content=\"00:18:01.360 ability to fine-tune or build their own\\n00:18:03.919 state-of-the-art models so they're sort\\n00:18:05.880 of limited to what these large Labs do\\n00:18:09.159 um and like I just said I I think um you\\n00:18:13.120 know one of the defining aspects of our\\n00:18:15.440 culture around Innovation as a sort of a\\n00:18:17.320 country or or Society is like it's not\\n00:18:20.159 just big companies that do it right\\n00:18:21.720 there's all these startups and hackers\"),\n",
       " Document(page_content='00:18:23.240 and academics and people in University\\n00:18:25.720 and I think you want to give all of\\n00:18:27.640 those folks access to state-of-the-art\\n00:18:29.960 models that they can build on top of not\\n00:18:31.559 just that they can run which is what\\n00:18:32.919 they have today with with the closed\\n00:18:34.600 vendors but that they can build on top\\n00:18:36.720 of and and tweak and distill down to\\n00:18:39.200 smaller models that they can run on'),\n",
       " Document(page_content=\"00:18:40.679 their laptop or their phone or whatever\\n00:18:43.159 other device they're building and I\\n00:18:45.039 think that that's just going to unlock a\\n00:18:46.280 ton of progress there's also a version\\n00:18:48.360 of this where there are you can look at\\n00:18:50.799 it by um you know Nation to um you know\\n00:18:55.919 so it's not just that startups might not\\n00:18:57.600 have the resources or universities might\\n00:18:59.480 not have the resources to go train their\"),\n",
       " Document(page_content=\"00:19:00.960 own um you know large scale Foundation\\n00:19:03.120 models now or in the future but um but\\n00:19:06.559 there are lot of countries that aren't\\n00:19:07.559 going to have the ability to to do that\\n00:19:09.159 because I mean you know pretty soon\\n00:19:11.000 these things are going to cost many\\n00:19:12.559 billions of dollars to train and um I\\n00:19:16.320 think that having the ability for\\n00:19:18.720 different countries and entrepreneurs\"),\n",
       " Document(page_content=\"00:19:20.240 and different countries and businesses\\n00:19:22.480 to use it to serve people better and and\\n00:19:25.000 just do better work is going to be\\n00:19:26.520 something that that basically like lifts\\n00:19:29.520 all boats around the world and um just\\n00:19:32.520 has a massive kind of equalizing effect\\n00:19:34.799 so I think that that's really positive\\n00:19:36.919 and you know that's one of the places\\n00:19:38.240 where we get the most um thanks for this\"),\n",
       " Document(page_content=\"00:19:41.440 is not actually The Tech Community but\\n00:19:42.919 it's just it's like different developing\\n00:19:44.559 countries there other countries that\\n00:19:46.080 want to have access to the technology\\n00:19:47.559 and do stuff with it um but but wouldn't\\n00:19:50.559 necessarily have the the tech field\\n00:19:52.600 themselves to produce something that is\\n00:19:54.440 state-of-the-art that their businesses\\n00:19:55.679 can build on top of but once they have\"),\n",
       " Document(page_content=\"00:19:57.200 it it's actually pretty easy to go train\\n00:19:58.880 your own thing so um so that's uh that's\\n00:20:01.520 that's a pretty neat part of this yeah I\\n00:20:03.720 love it um one other thing I want to\\n00:20:06.400 touch on from the letter is I was a\\n00:20:09.520 little shocked by how directly you\\n00:20:11.440 called out apple and their closed\\n00:20:13.440 approach um can you kind of expand on\\n00:20:16.440 that and where Apple has been a blocker\"),\n",
       " Document(page_content=\"00:20:18.720 for meta and potentially others yeah I\\n00:20:22.000 mean my point in there is\\n00:20:25.320 more it's a little more philosophical on\\n00:20:28.200 how it affected my own kind of approach\\n00:20:32.240 towards things and um and\\n00:20:35.440 psychologically sort of affected how I\\n00:20:37.280 think about building stuff um I actually\\n00:20:39.799 don't know how they're going to approach\\n00:20:41.039 AI um you know they do some open\\n00:20:43.360 development they do some closed\"),\n",
       " Document(page_content=\"00:20:44.600 development um you know by the way I\\n00:20:46.440 think it's worth noting like I don't\\n00:20:47.799 actually consider myself to be an open\\n00:20:49.200 source Zealot I just think that in this\\n00:20:50.760 case um I I think that open models are\\n00:20:52.760 going to be the standard and I think\\n00:20:53.760 that that's going to be good for the\\n00:20:54.600 world but we do open development we do\\n00:20:56.000 close development so I get it right and\"),\n",
       " Document(page_content=\"00:20:57.600 and I'm not saying that Apple's\\n00:20:58.880 necessarily going to be in the wrong\\n00:20:59.919 place on this um for AI but if you look\\n00:21:03.720 back over the last 10 or 15 years\\n00:21:07.039 um it has been a formative experience\\n00:21:10.120 for us is building our\\n00:21:13.279 services on top of platforms that are\\n00:21:15.679 controlled by our competitors and for a\\n00:21:18.159 number of different\\n00:21:20.320 incentives they they absolutely from my\"),\n",
       " Document(page_content=\"00:21:23.640 perspective apply different rules to\\n00:21:26.000 kind of limit what we can do and and\\n00:21:28.400 yeah they have all these taxes and you\\n00:21:30.360 know at some point we we did um we've\\n00:21:33.000 done some analysis that we we think we'd\\n00:21:34.640 be you know way more profitable um if it\\n00:21:37.480 weren't for some of these arbitrary\\n00:21:38.679 rules and and I think a lot of other\\n00:21:40.120 businesses would be too but you know\"),\n",
       " Document(page_content=\"00:21:42.799 honestly the the money part I think um\\n00:21:45.679 it's annoying but for me it's not the\\n00:21:47.279 biggest thing it's you I think it's a\\n00:21:48.840 little bit Soul crushing when you go\\n00:21:51.279 build features that are that you that\\n00:21:54.480 are what you believe is good for for\\n00:21:56.440 your community and then you're told that\\n00:21:58.120 you can't ship them because some company\\n00:22:00.760 wants to put you in a box so that they\"),\n",
       " Document(page_content=\"00:22:02.480 they can better compete with you and my\\n00:22:04.799 concern for AI at this point isn't\\n00:22:07.039 actually Apple it's more the other\\n00:22:09.760 companies and how that would evolve and\\n00:22:11.679 I I think to some degree it's not even\\n00:22:13.200 that I'm not even saying that they're\\n00:22:14.760 like bad people it's it's um I think\\n00:22:17.720 that there's just a physics and\\n00:22:19.039 incentive structure to the system where\"),\n",
       " Document(page_content=\"00:22:21.440 you know if you build a closed system\\n00:22:23.799 then eventually there are all these\\n00:22:24.919 forces on you that that sort of kind of\\n00:22:27.200 push you to to to kind of clamp down on\\n00:22:29.600 things and um I I I I think that it will\\n00:22:34.080 be a healthier ecosystem if it's\\n00:22:37.039 developed more like the web but\\n00:22:41.279 um but more capable and I think that you\\n00:22:43.960 know because of how mobile developed\"),\n",
       " Document(page_content=\"00:22:45.360 were the closed model one right I it's\\n00:22:47.720 like apple I think has has really reaped\\n00:22:49.440 most of the benefits um in terms of you\\n00:22:51.679 know they there might be more Android\\n00:22:53.159 phones out there but like apple gets\\n00:22:54.919 like almost all the profits of for\\n00:22:57.000 mobile phones I I think there's a bit of\\n00:22:59.200 recency by bias because these are these\\n00:23:01.840 are long Cycles right I mean the the\"),\n",
       " Document(page_content=\"00:23:03.520 iPhone I think it came out in 2007 right\\n00:23:06.200 so we're almost 20 years into this thing\\n00:23:08.000 it's a long cycle um but it's easy to\\n00:23:11.480 forget the fact that the Clos model\\n00:23:13.880 doesn't always win um if you go back to\\n00:23:17.720 PCS um you know I know a lot of people\\n00:23:20.799 have especially if you're using the\\n00:23:22.600 Linux analogy people don't necessarily\\n00:23:24.240 consider Windows to be maximally open\"),\n",
       " Document(page_content=\"00:23:26.640 but compared to the um the Apple\\n00:23:29.080 approach of of kind of coupling your\\n00:23:30.520 operating system with um with the device\\n00:23:33.799 the windows approach was a more open\\n00:23:35.400 ecosystem and it won and part of my hope\\n00:23:39.760 for the next generation of platforms\\n00:23:41.919 which includes both Ai and the work that\\n00:23:44.279 we're doing an augmented in virtual\\n00:23:45.919 reality is to you know meta wants to be\"),\n",
       " Document(page_content=\"00:23:48.559 on the side of building the open\\n00:23:50.240 ecosystems and it's not just that we\\n00:23:52.799 want to build something that's an\\n00:23:53.720 alternative to the closed ecosystem I\\n00:23:55.240 want to restore the industry to the\\n00:23:56.640 state where the open ecosystem is is\\n00:23:58.600 actually the one that is leading um so I\\n00:24:01.520 think it's possible I I think we'll you\\n00:24:03.679 know I think we're making good steps on\"),\n",
       " Document(page_content=\"00:24:05.200 that in both Ai and AR and VR U but but\\n00:24:09.200 that's something that I just personally\\n00:24:10.720 and philosophically care about given the\\n00:24:13.880 the kind of limits on on creativity that\\n00:24:16.000 I I've felt have sort of been applied to\\n00:24:18.279 to our industry by the closed model of\\n00:24:20.080 of mobile development over the last 105\\n00:24:21.880 years I want to go deeper on that point\\n00:24:24.480 that you just mentioned of restoring the\"),\n",
       " Document(page_content=\"00:24:26.880 industry to the state where the open\\n00:24:29.159 ecosystem is the one that's\\n00:24:31.120 leading um and so obviously right now we\\n00:24:33.399 have llama 3.1 405b just came out it's\\n00:24:36.880 competitive and it even beats some of\\n00:24:38.679 the best closed models across key\\n00:24:40.640 benchmarks which is insane in its own\\n00:24:43.799 right uh but in your letter you also\\n00:24:45.919 mentioned that llama 4 is expected to\\n00:24:48.240 become the most advanced model in the\"),\n",
       " Document(page_content=\"00:24:50.720 industry are there any specific things\\n00:24:53.240 about llama 4 that you're really excited\\n00:24:55.840 about oh man I mean it's um you know\\n00:24:58.559 we're just doing 3.1 for for for llama\\n00:25:01.120 now I I think it might be a little early\\n00:25:02.840 to to talk about llama 4 but um but\\n00:25:06.360 we've got the compute cluster set up um\\n00:25:08.559 we've got a bunch of the data set up we\\n00:25:10.880 we kind of have a sense of what what the\"),\n",
       " Document(page_content=\"00:25:12.520 the architecture is going to be and and\\n00:25:14.559 and I've run a bunch of research\\n00:25:15.799 experiments to to kind of Max that out\\n00:25:17.640 so I I do think that um llama 4 is going\\n00:25:20.559 to be another big leap on top of llama 3\\n00:25:23.000 I think we have um a bunch more progress\\n00:25:25.840 that we can make I mean this is the\\n00:25:26.960 first dot release for llama\\n00:25:29.120 um there's more that I'd like to do um\"),\n",
       " Document(page_content=\"00:25:32.559 including launching the uh the the\\n00:25:35.799 multimodal models um which we we kind of\\n00:25:38.440 had an unfortunate setback on on on that\\n00:25:41.799 um but but I think we're going to be\\n00:25:43.200 launching them probably everywhere\\n00:25:44.320 outside of the EU um uh hopefully over\\n00:25:47.480 the next few months but um yeah probably\\n00:25:51.480 a little early to talk about llama 4 but\\n00:25:53.360 but it is going to be awesome and it has\"),\n",
       " Document(page_content='00:25:55.720 been one of the interesting things in\\n00:25:56.840 running the company is basically\\n00:25:58.679 planning out the compute clusters and\\n00:26:03.159 data\\n00:26:04.200 trajectories for not just llama 4 but\\n00:26:07.960 you know the next um probably four or\\n00:26:11.159 five versions of llama because I mean\\n00:26:13.240 these are long lead Time Investments to\\n00:26:15.039 build out these data centers and and the\\n00:26:18.200 power around them and um the chip'),\n",
       " Document(page_content=\"00:26:20.480 architectures and the networking\\n00:26:21.679 architecture so all this stuff um so\\n00:26:24.279 yeah I I realize that's that's a bit of\\n00:26:26.120 a non-answer for now other than just\\n00:26:27.640 some general excitement but um I don't\\n00:26:30.559 know let's uh I I I think llama 3\\n00:26:33.960 deserves at least um you know llama 3.1\\n00:26:36.399 deserves at least a week of of kind of\\n00:26:38.480 just processing um you know what we've\"),\n",
       " Document(page_content=\"00:26:40.720 put out there before we get into talking\\n00:26:42.919 about the future that's fair and I\\n00:26:45.159 completely agree that the next couple\\n00:26:46.880 weeks are going to be wild just with 3.1\\n00:26:49.760 uh but it's still super exciting\\n00:26:50.919 obviously to hear that meta has already\\n00:26:52.360 get anything ready for llama 4 um on\\n00:26:55.799 that front though can you talk more\\n00:26:57.600 about your long-term vision for what you\"),\n",
       " Document(page_content=\"00:27:00.480 think is going to happen with AI and\\n00:27:01.720 possibly AGI in the future yeah I mean\\n00:27:04.840 I'm happy to talk about it both from a\\n00:27:06.480 technical perspective and a product\\n00:27:09.000 perspective but since we've mostly\\n00:27:10.200 talked about the models so far maybe\\n00:27:11.799 I'll start with um with the products so\\n00:27:15.559 our vision is that there should be a lot\\n00:27:18.640 of different AIS out there and AI\"),\n",
       " Document(page_content=\"00:27:20.760 services not just kind of One Singular\\n00:27:24.399 AI um and that really informs the open\\n00:27:27.440 source approach it's you know it also\\n00:27:29.760 informs the product road map so yeah we\\n00:27:32.000 we have meta AI um met AI is doing quite\\n00:27:35.000 well my goal was for it to be the most\\n00:27:36.640 used AI assistant in the world by the\\n00:27:39.520 end of the year I think we're well on\\n00:27:41.480 track for that we'll probably hit it hit\"),\n",
       " Document(page_content=\"00:27:43.320 that Milestone um you know few months\\n00:27:46.880 before the end of the year um and and\\n00:27:50.000 look on that you know I think we just\\n00:27:51.480 have the ability in the business model\\n00:27:53.440 to basically build in the most advanced\\n00:27:56.120 models in the world and offer it to\\n00:27:57.919 everyone for free so I think that that's\\n00:27:59.960 a you know kind of a huge Advantage um\\n00:28:03.480 it's really easy to use from all of our\"),\n",
       " Document(page_content=\"00:28:05.480 apps um so I'm pretty excited about how\\n00:28:08.240 that's going so that's yeah we have the\\n00:28:09.880 basic assistant um and and I think that\\n00:28:11.919 that's going to be a big deal but even\\n00:28:13.600 more than that a lot of what we're\\n00:28:15.960 focused on is giving every Creator and\\n00:28:19.200 every small business um the ability to\\n00:28:21.640 create AI agents for themselves um\\n00:28:24.559 making it so that every person on our\"),\n",
       " Document(page_content='00:28:26.600 platforms can create their own AI agents\\n00:28:29.039 that they want to interact with and if\\n00:28:31.000 you think about it these are just huge\\n00:28:32.760 spaces right so there are hundreds of\\n00:28:34.760 millions of small businesses in the\\n00:28:36.159 world and one of the things I think is\\n00:28:38.600 really important is basically making it\\n00:28:40.799 so with a relatively small amount of\\n00:28:42.640 work um a business can basically you'),\n",
       " Document(page_content='00:28:45.760 know few Taps um stand up an AI agent\\n00:28:48.440 for themselves that uh can do customer\\n00:28:51.880 support sales communicate with all their\\n00:28:54.240 people all their customers I kind of\\n00:28:57.080 think that every business in the the\\n00:28:58.240 future just like they have an email\\n00:29:00.200 address and a website and a social media\\n00:29:02.039 presence today I think every business is\\n00:29:03.960 going to have a um an AI agent that'),\n",
       " Document(page_content=\"00:29:06.480 their customers can talk to in the\\n00:29:07.679 future and we want to enable that for\\n00:29:10.120 all of those that's that's going to be\\n00:29:11.240 hundreds of millions maybe billions of\\n00:29:13.559 what kind of small business agents\\n00:29:15.600 similar deal for creators um there are\\n00:29:18.320 more than it's more than 200 million\\n00:29:20.880 people on our platforms who consider\\n00:29:22.519 themselves creators who basically use\\n00:29:23.919 our platform um in a way that is\"),\n",
       " Document(page_content=\"00:29:26.320 primarily for you know building a\\n00:29:28.360 Community um you know put putting out\\n00:29:30.880 content feel like it's it's kind of like\\n00:29:32.159 a part of their job is is doing that and\\n00:29:35.600 they all have this basic issue which is\\n00:29:37.039 that there aren't enough hours in the\\n00:29:38.200 day to engage with their Community as\\n00:29:39.559 much as they'd like and likewise I think\\n00:29:41.720 that their communities would generally\"),\n",
       " Document(page_content=\"00:29:42.919 want more of their time but um but again\\n00:29:45.440 not enough hours in the day so I just\\n00:29:47.720 think it's a there's going to be a huge\\n00:29:49.840 unlock where basically every Creator can\\n00:29:52.200 pull in all their information from\\n00:29:53.480 social media can train these systems um\\n00:29:56.240 to reflect their values and their\\n00:29:57.720 business objectives and what they're\\n00:29:58.960 trying to do and then people can can\"),\n",
       " Document(page_content=\"00:30:01.919 interact with that it'll be almost like\\n00:30:03.480 this almost artistic artifact that\\n00:30:05.880 creators create that um that people can\\n00:30:09.240 can can kind of interact with in\\n00:30:10.440 different ways and then and that's not\\n00:30:11.960 even getting into all the different ways\\n00:30:13.640 that I think people are going to be able\\n00:30:14.880 to create you know different AI agents\\n00:30:16.720 for themselves to do different things so\"),\n",
       " Document(page_content=\"00:30:18.039 I think we're going to live in a world\\n00:30:18.960 where there are going to be hundreds of\\n00:30:20.480 millions of billions of different AI\\n00:30:22.399 agents eventually probably more AI\\n00:30:24.640 agents than there are people in the\\n00:30:25.880 world and um and the people just\\n00:30:28.080 interact with them in all these\\n00:30:28.880 different ways so that's part of you\\n00:30:31.200 know that's the product Vision um\\n00:30:33.840 obviously there's a lot of business\"),\n",
       " Document(page_content=\"00:30:35.000 opportunity in that that's where we want\\n00:30:37.080 to go make money so we don't want to\\n00:30:38.559 we're not going to make money from\\n00:30:39.480 selling access to the model itself um\\n00:30:42.039 because again we're not a public Cloud\\n00:30:43.279 company we will make money by building\\n00:30:45.279 the best products an important\\n00:30:47.279 ingredient to the best products is\\n00:30:48.559 building is having the best models which\"),\n",
       " Document(page_content=\"00:30:50.720 having the best kind of ecosystem around\\n00:30:52.440 open source will help us do so that's\\n00:30:55.279 why it's kind of all aligned for us and\\n00:30:57.519 why this is is going to end up I think\\n00:30:59.360 being really valuable for us to build\\n00:31:01.880 the the highest quality products that we\\n00:31:03.519 can um and and have the best business\\n00:31:06.039 results by by kind of building out this\\n00:31:07.559 open source Community but but it's also\"),\n",
       " Document(page_content=\"00:31:09.279 why it's all philosophically aligned\\n00:31:10.799 right we don't we just don't believe\\n00:31:11.880 that there's going to be kind of one big\\n00:31:14.440 AI whether it's a product or a model\\n00:31:16.360 that everyone uses we kind of\\n00:31:18.600 fundamentally believe in having this\\n00:31:20.519 broad diversity and different set of\\n00:31:22.600 models and that you know every business\\n00:31:24.639 and um you people are just going to want\"),\n",
       " Document(page_content=\"00:31:26.960 a lot of their own stuff they're going\\n00:31:28.159 to make and I think that's kind of going\\n00:31:29.600 to be interesting it's going to be a lot\\n00:31:31.240 of what makes this interesting yeah I\\n00:31:32.840 think it's really interesting to see how\\n00:31:34.360 met is integrating the tech directly\\n00:31:36.240 into his products and obviously giving a\\n00:31:39.320 frontier level AI model for free to\\n00:31:41.159 billions of users is a huge deal um but\"),\n",
       " Document(page_content=\"00:31:44.360 on that I have a final question around\\n00:31:47.240 skepticism and for context in the 1990s\\n00:31:51.000 skepticism around the internet was\\n00:31:53.159 everywhere but eventually it became\\n00:31:55.799 almost irrational to oppose it\\n00:31:58.720 and it kind of feels like we're in a\\n00:32:00.200 similar trajectory with skepticism\\n00:32:02.559 around AI right now do you think we're\\n00:32:05.320 kind of at that early stage and there'll\"),\n",
       " Document(page_content=\"00:32:07.360 be a point where anti-a sentiment will\\n00:32:10.120 be viewed similar to the internet today\\n00:32:13.000 and what kind of factors you think will\\n00:32:14.760 be crucial in changing that perspective\\n00:32:17.760 I think there are different ways of uh\\n00:32:21.360 different ways that people can be\\n00:32:22.679 worried about something I mean it's\\n00:32:25.600 um I mean financially one thing that I'm\\n00:32:27.960 quite aware of is the internet um had a\"),\n",
       " Document(page_content=\"00:32:31.240 big bubble burst before it succeeded and\\n00:32:34.720 you know so all the people who were very\\n00:32:36.480 long on the internet um were eventually\\n00:32:39.240 right but sometimes things take a little\\n00:32:41.159 longer to develop than you think and you\\n00:32:42.760 just need to have the commitment to see\\n00:32:44.200 that through and um that's something\\n00:32:46.039 that I'm aware of because yeah I mean I\\n00:32:48.080 I I'm really excited about you know all\"),\n",
       " Document(page_content=\"00:32:49.720 the unlocks that we're going to get from\\n00:32:50.880 llama 3 and then llama 4 and then llama\\n00:32:52.799 5 and I think that's going to translate\\n00:32:53.880 into better products but realistically\\n00:32:57.679 um\\n00:32:59.000 it's hard to know in advance when\\n00:33:01.279 something is good enough that you're\\n00:33:02.679 going to have a product that billions of\\n00:33:04.120 people use and then when it's ready to\\n00:33:06.360 to kind of be a large business and I\"),\n",
       " Document(page_content=\"00:33:08.320 mean look we're all spending you know a\\n00:33:09.760 lot of capital and and on basically\\n00:33:12.519 training these models so I I think that\\n00:33:13.919 people are going to be probably losing\\n00:33:15.360 money for quite a while um but but I\\n00:33:17.279 don't know maybe maybe that'll all\\n00:33:18.639 happen quicker I'm it's it's it's hard\\n00:33:20.360 to know exactly um the other part of\\n00:33:23.840 this that I think you are more getting\"),\n",
       " Document(page_content=\"00:33:25.519 at is people's concern about what it\\n00:33:27.480 means for their livelihoods and on that\\n00:33:31.519 this is one of the reasons why I think\\n00:33:32.840 the open source approach the approach of\\n00:33:35.600 um lots of different models out there\\n00:33:37.639 that are kind of personalized and\\n00:33:39.200 customized to to every business and\\n00:33:41.320 every Creator and every person um I\\n00:33:44.840 think that's important because if this\"),\n",
       " Document(page_content=\"00:33:46.840 of develops in a way where it's just a\\n00:33:51.080 you know a small number of companies\\n00:33:52.760 that build the products and benefit and\\n00:33:55.639 people use the products and maybe they\\n00:33:57.000 like talking to to you know an AI\\n00:33:59.360 assistant and that's valuable for them\\n00:34:01.519 but you know if that if this doesn't in\\n00:34:04.320 some way help lift all boats then I\\n00:34:07.840 think you end up eventually getting a\"),\n",
       " Document(page_content=\"00:34:09.520 backlash and part of what I've spent\\n00:34:12.599 some time thinking about after just\\n00:34:15.159 looking at how the kind of Web 2.0 stuff\\n00:34:18.399 developed is in the next generation of\\n00:34:21.199 Technologies around AI around AR and VR\\n00:34:25.079 how do we create not just a kind of\\n00:34:27.719 thriving set of products um and and kind\\n00:34:30.879 of economic kind of productivity gains\\n00:34:33.320 but how do we have like a better and\"),\n",
       " Document(page_content=\"00:34:35.119 more sustainable political economy\\n00:34:36.879 around it where there's just way more\\n00:34:38.719 people who are who who feel like they're\\n00:34:41.280 they're kind of bought in or benefiting\\n00:34:42.839 from this um and supportive of of of the\\n00:34:45.480 system and you know I I I thought we did\\n00:34:48.599 that reasonably well with social media\\n00:34:50.918 but um but I you know just looking at\\n00:34:53.040 some of the feedback and some of the\"),\n",
       " Document(page_content=\"00:34:54.119 response from from the world um I think\\n00:34:56.760 that it's going to be important to do\\n00:34:57.920 that even better with AI and some of the\\n00:34:59.680 new technologies in order to to uh\\n00:35:02.640 mitigate some of the concerns that\\n00:35:04.119 people are going to have about what this\\n00:35:05.280 is going to mean for their livelihoods\\n00:35:06.800 and and and jobs and their lives yeah I\\n00:35:09.200 don't think anyone could have said it\"),\n",
       " Document(page_content=\"00:35:10.680 any better um but Mark it's been amazing\\n00:35:13.200 speaking with you thanks so much for\\n00:35:14.960 doing this and thanks for everything you\\n00:35:16.560 and met are doing for the AI Community\\n00:35:19.000 happy to do it and um I'm really looking\\n00:35:20.880 forward to seeing what people build\")]"
      ]
     },
     "execution_count": 8,
     "metadata": {},
     "output_type": "execute_result"
    }
   ],
   "source": [
    "final_text = text_splitter.create_documents([text])\n",
    "final_text"
   ]
  },
  {
   "cell_type": "code",
   "execution_count": 35,
   "metadata": {},
   "outputs": [
    {
     "data": {
      "text/plain": [
       "str"
      ]
     },
     "execution_count": 35,
     "metadata": {},
     "output_type": "execute_result"
    }
   ],
   "source": [
    "from yt_transcript import get_transcript\n",
    "\n",
    "\n",
    "\n",
    "translation_language = \"de\"\n",
    "transcript = get_transcript(\"https://www.youtube.com/watch?v=dQw4w9WgXcQ\")\n",
    "type(transcript[0].page_content)"
   ]
  },
  {
   "cell_type": "code",
   "execution_count": 36,
   "metadata": {},
   "outputs": [
    {
     "data": {
      "text/plain": [
       "[Document(metadata={'source': 'dQw4w9WgXcQ', 'title': 'Never Gonna Give You Up', 'description': 'Unknown', 'view_count': 1558272665, 'thumbnail_url': 'https://i.ytimg.com/vi/dQw4w9WgXcQ/hq720.jpg?sqp=-oaymwEXCNUGEOADIAQqCwjVARCqCBh4INgESFo&rs=AOn4CLBX-HcaMSEAucUr5J0qD5nEyiPAoQ', 'publish_date': '2009-10-24 00:00:00', 'length': 212, 'author': 'Rick Astley'}, page_content=\"[Music]  we're no strangers to  love you know the rules and so do  I I full commitments while I'm thinking  of  you wouldn't get this from any other guy  I just want to tell you how I'm  feeling got to make you understand Never  Going To Give You Up never going to let  you down never going to run around and  desert you never going to make you cry  never going to say goodbye never going  to tell a lie and hurt you  we've known each other for so  long your heart's been aching but your  to sh to\"),\n",
       " Document(metadata={'source': 'dQw4w9WgXcQ', 'title': 'Never Gonna Give You Up', 'description': 'Unknown', 'view_count': 1558272665, 'thumbnail_url': 'https://i.ytimg.com/vi/dQw4w9WgXcQ/hq720.jpg?sqp=-oaymwEXCNUGEOADIAQqCwjVARCqCBh4INgESFo&rs=AOn4CLBX-HcaMSEAucUr5J0qD5nEyiPAoQ', 'publish_date': '2009-10-24 00:00:00', 'length': 212, 'author': 'Rick Astley'}, page_content=\"long your heart's been aching but your  to sh to say it inside we both know  what's been going  on we know the game and we're going to  playing and if you ask me how I'm  feeling don't tell me you're too my you  see Never Going To Give You Up never  going to let you down never to run  around and desert you never going to  make you cry never going to say goodbye  never going to tell a lie and hurt you  never going to give you up never going  to let you down never going to run  around and desert\"),\n",
       " Document(metadata={'source': 'dQw4w9WgXcQ', 'title': 'Never Gonna Give You Up', 'description': 'Unknown', 'view_count': 1558272665, 'thumbnail_url': 'https://i.ytimg.com/vi/dQw4w9WgXcQ/hq720.jpg?sqp=-oaymwEXCNUGEOADIAQqCwjVARCqCBh4INgESFo&rs=AOn4CLBX-HcaMSEAucUr5J0qD5nEyiPAoQ', 'publish_date': '2009-10-24 00:00:00', 'length': 212, 'author': 'Rick Astley'}, page_content=\"you down never going to run  around and desert you never going to  make you cry never going to sing goodbye  going to tell a lie and hurt  you  give  you give  you going to give going to give  you going to give going to give  you we've known each other for so  long your heart's been aching but you're  too sh to say inside we both know what's  been going  on we the game and we're going to play  it I just want to tell you how I'm  feeling got to make you understand Never  Going To Give You Up\"),\n",
       " Document(metadata={'source': 'dQw4w9WgXcQ', 'title': 'Never Gonna Give You Up', 'description': 'Unknown', 'view_count': 1558272665, 'thumbnail_url': 'https://i.ytimg.com/vi/dQw4w9WgXcQ/hq720.jpg?sqp=-oaymwEXCNUGEOADIAQqCwjVARCqCBh4INgESFo&rs=AOn4CLBX-HcaMSEAucUr5J0qD5nEyiPAoQ', 'publish_date': '2009-10-24 00:00:00', 'length': 212, 'author': 'Rick Astley'}, page_content='make you understand Never  Going To Give You Up never going to let  you down never going to run around and  desert you never going to make you cry  never going to say goodbye never going  to tell you my and Hurt You Never Going  To Give You Up  never going to let you down never going  to run around and desert you never going  to make you C never going to say goodbye  never going to  tell and Hur You Never Going To Give You  Up never going to let you down never  going to run around and desert'),\n",
       " Document(metadata={'source': 'dQw4w9WgXcQ', 'title': 'Never Gonna Give You Up', 'description': 'Unknown', 'view_count': 1558272665, 'thumbnail_url': 'https://i.ytimg.com/vi/dQw4w9WgXcQ/hq720.jpg?sqp=-oaymwEXCNUGEOADIAQqCwjVARCqCBh4INgESFo&rs=AOn4CLBX-HcaMSEAucUr5J0qD5nEyiPAoQ', 'publish_date': '2009-10-24 00:00:00', 'length': 212, 'author': 'Rick Astley'}, page_content='you down never  going to run around and desert you never  going to make you going to  [Music]  goodbye  and')]"
      ]
     },
     "execution_count": 36,
     "metadata": {},
     "output_type": "execute_result"
    }
   ],
   "source": [
    "text_splitter = RecursiveCharacterTextSplitter(chunk_size = 500, chunk_overlap=50)\n",
    "docs = text_splitter.split_documents(transcript)\n",
    "docs"
   ]
  },
  {
   "cell_type": "code",
   "execution_count": 38,
   "metadata": {},
   "outputs": [],
   "source": [
    "persistent_dir = \"chroma_db\"\n",
    "db = Chroma.from_documents(documents=docs,embedding=embedding_function,persist_directory=persistent_dir)\n",
    "db.persist()"
   ]
  },
  {
   "cell_type": "code",
   "execution_count": 39,
   "metadata": {},
   "outputs": [],
   "source": [
    "read_db = Chroma(persist_directory=persistent_dir,embedding_function=embedding_function)"
   ]
  },
  {
   "cell_type": "code",
   "execution_count": 53,
   "metadata": {},
   "outputs": [],
   "source": [
    "db.similarity_search(\"what is rickroll\")\n",
    "retriever = db.as_retriever()"
   ]
  },
  {
   "cell_type": "code",
   "execution_count": 43,
   "metadata": {},
   "outputs": [
    {
     "name": "stdout",
     "output_type": "stream",
     "text": [
      "\n",
      "Human : hello\n",
      "\n",
      "AI: Hello! It seems like we have some song lyrics here, specifically from \"Never Gonna Give You Up\" by Rick Astley. What would you like to know or talk about?\n",
      "\n",
      "\n",
      "Human : tell mw what is singer talking about\n",
      "\n",
      "AI: The singer appears to be talking about commitment and devotion to someone they care about. They are promising to never let this person down, never desert them, never make them cry, and never say goodbye. The repetition of the phrase \"Never Going to Give You Up\" suggests a strong promise to stand by this person and maintain a relationship with them. The overall tone is one of reassurance and loyalty.\n",
      "\n",
      "\n",
      "Human : /bye\n"
     ]
    }
   ],
   "source": [
    "from langchain.chains.question_answering import load_qa_chain\n",
    "chain = load_qa_chain(llm, chain_type=\"stuff\",verbose=False)\n",
    "\n",
    "user_input = \"\"\n",
    "while user_input.strip() != \"/bye\":\n",
    "    user_input = input('\\nHuman: ').strip() \n",
    "    print(f\"\\nHuman : {user_input}\")\n",
    "    if user_input == \"/bye\":\n",
    "        break  \n",
    "    matching_docs = db.similarity_search(user_input)\n",
    "    output = chain.run(input_documents=matching_docs,question=user_input)\n",
    "    print(f'\\nAI: {output}')\n",
    "    print('')\n"
   ]
  },
  {
   "cell_type": "code",
   "execution_count": 50,
   "metadata": {},
   "outputs": [],
   "source": [
    "template = \"\"\"\n",
    "Use the following context (delimited by <ctx></ctx>) and the chat history (delimited by <hs></hs>) to answer the question\n",
    "if you dont know the answer just tell that you dont know the answer in very funny way:\n",
    "------\n",
    "<ctx>\n",
    "{context}\n",
    "</ctx>\n",
    "------\n",
    "<hs>\n",
    "{history}\n",
    "</hs>\n",
    "------\n",
    "{question}\n",
    "Answer:\n",
    "\"\"\"\n",
    "prompt = PromptTemplate(\n",
    "    input_variables=[\"history\", \"context\", \"question\"],\n",
    "    template=template,\n",
    ")"
   ]
  },
  {
   "cell_type": "code",
   "execution_count": 64,
   "metadata": {},
   "outputs": [],
   "source": [
    "qa = RetrievalQA.from_chain_type(\n",
    "    llm=llm,\n",
    "    chain_type='stuff',\n",
    "    retriever=retriever,\n",
    "    verbose=False,\n",
    "    chain_type_kwargs={\n",
    "        \"verbose\": True,\n",
    "        \"prompt\": prompt,\n",
    "        \"memory\": ConversationBufferMemory(\n",
    "            memory_key=\"history\",\n",
    "            input_key=\"question\"),\n",
    "    }\n",
    ")"
   ]
  },
  {
   "cell_type": "code",
   "execution_count": 65,
   "metadata": {},
   "outputs": [
    {
     "name": "stdout",
     "output_type": "stream",
     "text": [
      "\n",
      "Human : hello there\n",
      "\n",
      "\n",
      "\u001b[1m> Entering new RetrievalQA chain...\u001b[0m\n",
      "\n",
      "\n",
      "\u001b[1m> Entering new StuffDocumentsChain chain...\u001b[0m\n",
      "\n",
      "\n",
      "\u001b[1m> Entering new LLMChain chain...\u001b[0m\n",
      "Prompt after formatting:\n",
      "\u001b[32;1m\u001b[1;3m\n",
      "Use the following context (delimited by <ctx></ctx>) and the chat history (delimited by <hs></hs>) to answer the question:\n",
      "------\n",
      "<ctx>\n",
      "you down never  going to run around and desert you never  going to make you going to  [Music]  goodbye  and\n",
      "\n",
      "you down never  going to run around and desert you never  going to make you going to  [Music]  goodbye  and\n",
      "\n",
      "make you understand Never  Going To Give You Up never going to let  you down never going to run around and  desert you never going to make you cry  never going to say goodbye never going  to tell you my and Hurt You Never Going  To Give You Up  never going to let you down never going  to run around and desert you never going  to make you C never going to say goodbye  never going to  tell and Hur You Never Going To Give You  Up never going to let you down never  going to run around and desert\n",
      "\n",
      "make you understand Never  Going To Give You Up never going to let  you down never going to run around and  desert you never going to make you cry  never going to say goodbye never going  to tell you my and Hurt You Never Going  To Give You Up  never going to let you down never going  to run around and desert you never going  to make you C never going to say goodbye  never going to  tell and Hur You Never Going To Give You  Up never going to let you down never  going to run around and desert\n",
      "</ctx>\n",
      "------\n",
      "<hs>\n",
      "\n",
      "</hs>\n",
      "------\n",
      "hello there\n",
      "Answer:\n",
      "\u001b[0m\n",
      "\n",
      "\u001b[1m> Finished chain.\u001b[0m\n",
      "\n",
      "\u001b[1m> Finished chain.\u001b[0m\n",
      "\n",
      "\u001b[1m> Finished chain.\u001b[0m\n",
      "\n",
      "AI: It seems like you're referencing the classic song \"Never Gonna Give You Up\" by Rick Astley! That song is known for its catchy lyrics and has become a popular meme. Is there something specific you'd like to know or talk about regarding the song or its context?\n",
      "\n",
      "\n",
      "Human : yeah i want to know what is the song about\n",
      "\n",
      "\n",
      "\u001b[1m> Entering new RetrievalQA chain...\u001b[0m\n",
      "\n",
      "\n",
      "\u001b[1m> Entering new StuffDocumentsChain chain...\u001b[0m\n",
      "\n",
      "\n",
      "\u001b[1m> Entering new LLMChain chain...\u001b[0m\n",
      "Prompt after formatting:\n",
      "\u001b[32;1m\u001b[1;3m\n",
      "Use the following context (delimited by <ctx></ctx>) and the chat history (delimited by <hs></hs>) to answer the question:\n",
      "------\n",
      "<ctx>\n",
      "you down never  going to run around and desert you never  going to make you going to  [Music]  goodbye  and\n",
      "\n",
      "you down never  going to run around and desert you never  going to make you going to  [Music]  goodbye  and\n",
      "\n",
      "make you understand Never  Going To Give You Up never going to let  you down never going to run around and  desert you never going to make you cry  never going to say goodbye never going  to tell you my and Hurt You Never Going  To Give You Up  never going to let you down never going  to run around and desert you never going  to make you C never going to say goodbye  never going to  tell and Hur You Never Going To Give You  Up never going to let you down never  going to run around and desert\n",
      "\n",
      "make you understand Never  Going To Give You Up never going to let  you down never going to run around and  desert you never going to make you cry  never going to say goodbye never going  to tell you my and Hurt You Never Going  To Give You Up  never going to let you down never going  to run around and desert you never going  to make you C never going to say goodbye  never going to  tell and Hur You Never Going To Give You  Up never going to let you down never  going to run around and desert\n",
      "</ctx>\n",
      "------\n",
      "<hs>\n",
      "Human: hello there\n",
      "AI: It seems like you're referencing the classic song \"Never Gonna Give You Up\" by Rick Astley! That song is known for its catchy lyrics and has become a popular meme. Is there something specific you'd like to know or talk about regarding the song or its context?\n",
      "</hs>\n",
      "------\n",
      "yeah i want to know what is the song about\n",
      "Answer:\n",
      "\u001b[0m\n",
      "\n",
      "\u001b[1m> Finished chain.\u001b[0m\n",
      "\n",
      "\u001b[1m> Finished chain.\u001b[0m\n",
      "\n",
      "\u001b[1m> Finished chain.\u001b[0m\n",
      "\n",
      "AI: The song \"Never Gonna Give You Up\" by Rick Astley is about a person who is committed to a romantic relationship and is reassuring their partner that they will never abandon or hurt them. The lyrics, as you've seen, repeat the phrase \"never gonna give you up\" and emphasize the speaker's devotion and loyalty to their partner. The song's message is one of love, commitment, and reassurance.\n",
      "\n",
      "\n",
      "Human : great\n",
      "\n",
      "\n",
      "\u001b[1m> Entering new RetrievalQA chain...\u001b[0m\n",
      "\n",
      "\n",
      "\u001b[1m> Entering new StuffDocumentsChain chain...\u001b[0m\n",
      "\n",
      "\n",
      "\u001b[1m> Entering new LLMChain chain...\u001b[0m\n",
      "Prompt after formatting:\n",
      "\u001b[32;1m\u001b[1;3m\n",
      "Use the following context (delimited by <ctx></ctx>) and the chat history (delimited by <hs></hs>) to answer the question:\n",
      "------\n",
      "<ctx>\n",
      "you down never  going to run around and desert you never  going to make you going to  [Music]  goodbye  and\n",
      "\n",
      "you down never  going to run around and desert you never  going to make you going to  [Music]  goodbye  and\n",
      "\n",
      "make you understand Never  Going To Give You Up never going to let  you down never going to run around and  desert you never going to make you cry  never going to say goodbye never going  to tell you my and Hurt You Never Going  To Give You Up  never going to let you down never going  to run around and desert you never going  to make you C never going to say goodbye  never going to  tell and Hur You Never Going To Give You  Up never going to let you down never  going to run around and desert\n",
      "\n",
      "make you understand Never  Going To Give You Up never going to let  you down never going to run around and  desert you never going to make you cry  never going to say goodbye never going  to tell you my and Hurt You Never Going  To Give You Up  never going to let you down never going  to run around and desert you never going  to make you C never going to say goodbye  never going to  tell and Hur You Never Going To Give You  Up never going to let you down never  going to run around and desert\n",
      "</ctx>\n",
      "------\n",
      "<hs>\n",
      "Human: hello there\n",
      "AI: It seems like you're referencing the classic song \"Never Gonna Give You Up\" by Rick Astley! That song is known for its catchy lyrics and has become a popular meme. Is there something specific you'd like to know or talk about regarding the song or its context?\n",
      "Human: yeah i want to know what is the song about\n",
      "AI: The song \"Never Gonna Give You Up\" by Rick Astley is about a person who is committed to a romantic relationship and is reassuring their partner that they will never abandon or hurt them. The lyrics, as you've seen, repeat the phrase \"never gonna give you up\" and emphasize the speaker's devotion and loyalty to their partner. The song's message is one of love, commitment, and reassurance.\n",
      "</hs>\n",
      "------\n",
      "great\n",
      "Answer:\n",
      "\u001b[0m\n",
      "\n",
      "\u001b[1m> Finished chain.\u001b[0m\n",
      "\n",
      "\u001b[1m> Finished chain.\u001b[0m\n",
      "\n",
      "\u001b[1m> Finished chain.\u001b[0m\n",
      "\n",
      "AI: It seems like you're satisfied with the conversation about the song \"Never Gonna Give You Up\" by Rick Astley. If you have any more questions or topics you'd like to discuss, feel free to ask!\n",
      "\n",
      "\n",
      "Human : /bye\n"
     ]
    }
   ],
   "source": [
    "user_input = \"\"\n",
    "while user_input.strip() != \"/bye\":\n",
    "    user_input = input('\\nHuman: ').strip() \n",
    "    print(f\"\\nHuman : {user_input}\")\n",
    "    if user_input == \"/bye\":\n",
    "        break  \n",
    "    output = qa.run(user_input)\n",
    "    print(f'\\nAI: {output}')\n",
    "    print('')\n"
   ]
  },
  {
   "cell_type": "code",
   "execution_count": null,
   "metadata": {},
   "outputs": [],
   "source": []
  }
 ],
 "metadata": {
  "kernelspec": {
   "display_name": "aienv",
   "language": "python",
   "name": "python3"
  },
  "language_info": {
   "codemirror_mode": {
    "name": "ipython",
    "version": 3
   },
   "file_extension": ".py",
   "mimetype": "text/x-python",
   "name": "python",
   "nbconvert_exporter": "python",
   "pygments_lexer": "ipython3",
   "version": "3.11.8"
  }
 },
 "nbformat": 4,
 "nbformat_minor": 2
}
